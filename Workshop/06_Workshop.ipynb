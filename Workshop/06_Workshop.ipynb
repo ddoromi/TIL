{
 "cells": [
  {
   "cell_type": "markdown",
   "metadata": {},
   "source": [
    "### 1. 양의 정수 x를 입력 받아 제곱근의 근사값의 결과를 반환한 함수"
   ]
  },
  {
   "cell_type": "code",
   "execution_count": 4,
   "metadata": {},
   "outputs": [
    {
     "name": "stdout",
     "output_type": "stream",
     "text": [
      "x를 입력하세여ㅇㅅㅇ: 2\n",
      "1.41421\n"
     ]
    }
   ],
   "source": [
    "def calculate_root(x):\n",
    "    minimum = 1\n",
    "    maximum = x ** 2\n",
    "\n",
    "    while True:\n",
    "        center = (maximum + minimum)/2\n",
    "        if round(minimum, 5) == round(maximum, 5):\n",
    "            return round(center, 5)\n",
    "            break\n",
    "        elif x > (center ** 2):\n",
    "            minimum = center\n",
    "        elif x < (center ** 2):\n",
    "            maximum = center\n",
    "            \n",
    "x = int(input('x를 입력하세여ㅇㅅㅇ: '))\n",
    "print(calculate_root(x))        "
   ]
  },
  {
   "cell_type": "code",
   "execution_count": 17,
   "metadata": {},
   "outputs": [
    {
     "name": "stdout",
     "output_type": "stream",
     "text": [
      "x를 입력하세여ㅇㅅㅇ: 435\n",
      "20.85665\n"
     ]
    }
   ],
   "source": [
    "# 재귀함수로 풀기\n",
    "def calculate_root2(x, minimum=1, maximum=x**2):\n",
    "    center = (minimum + maximum)/2\n",
    "    \n",
    "    if round(minimum, 5) == round(maximum, 5):\n",
    "        return round(center, 5)\n",
    "    else:\n",
    "        if x > (center ** 2):\n",
    "            minimum = center\n",
    "        else:\n",
    "            maximum = center\n",
    "            \n",
    "    return calculate_root2(x, minimum, maximum)\n",
    "\n",
    "x = int(input('x를 입력하세여ㅇㅅㅇ: '))\n",
    "print(calculate_root2(x))     "
   ]
  },
  {
   "cell_type": "code",
   "execution_count": 3,
   "metadata": {},
   "outputs": [
    {
     "name": "stdout",
     "output_type": "stream",
     "text": [
      "34\n"
     ]
    },
    {
     "data": {
      "text/plain": [
       "5.83095"
      ]
     },
     "execution_count": 3,
     "metadata": {},
     "output_type": "execute_result"
    }
   ],
   "source": [
    "def my_sqrt(n):\n",
    "    minimum, maximum = 1, 2\n",
    "    \n",
    "    while 1:\n",
    "        if n == maximum ** 2:\n",
    "            return maximum\n",
    "        elif minimum ** 2 < n < maximum ** 2:\n",
    "            guess = (minimum + maximum) / 2\n",
    "            \n",
    "            if round(minimum, 5) == round(maximum, 5):\n",
    "                return round(guess, 5)\n",
    "            elif guess ** 2 > n:\n",
    "                maximum = guess\n",
    "            else:\n",
    "                minimum = guess\n",
    "        else:\n",
    "            minimum += 1\n",
    "            maximum += 1\n",
    "\n",
    "my_sqrt(int(input()))\n",
    "        "
   ]
  },
  {
   "cell_type": "code",
   "execution_count": 7,
   "metadata": {},
   "outputs": [
    {
     "name": "stdout",
     "output_type": "stream",
     "text": [
      "45\n"
     ]
    },
    {
     "data": {
      "text/plain": [
       "6.7082"
      ]
     },
     "execution_count": 7,
     "metadata": {},
     "output_type": "execute_result"
    }
   ],
   "source": [
    "import math\n",
    "\n",
    "def my_sqrt2(n, minimum=1, maximum=2):\n",
    "    if n == maximum ** 2:\n",
    "        return maximum\n",
    "    elif minimum ** 2 < n < maximum ** 2:\n",
    "        guess = (minimum + maximum) / 2\n",
    "        if math.isclose(minimum, maximum):\n",
    "            return guess\n",
    "        elif guess ** 2 > n:\n",
    "            return my_sqrt2(n, minimum, guess)\n",
    "        else:\n",
    "            return my_sqrt2(n, guess, maximum)\n",
    "    else:\n",
    "        minimum += 1\n",
    "        maximum += 1\n",
    "        return round(my_sqrt2(n, minimum, maximum), 5)\n",
    "my_sqrt2(int(input()))"
   ]
  }
 ],
 "metadata": {
  "kernelspec": {
   "display_name": "Python 3",
   "language": "python",
   "name": "python3"
  },
  "language_info": {
   "codemirror_mode": {
    "name": "ipython",
    "version": 3
   },
   "file_extension": ".py",
   "mimetype": "text/x-python",
   "name": "python",
   "nbconvert_exporter": "python",
   "pygments_lexer": "ipython3",
   "version": "3.6.7"
  }
 },
 "nbformat": 4,
 "nbformat_minor": 2
}
