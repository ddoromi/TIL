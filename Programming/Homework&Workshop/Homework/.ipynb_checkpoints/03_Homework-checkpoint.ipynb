{
 "cells": [
  {
   "cell_type": "markdown",
   "metadata": {},
   "source": [
    "1.\n",
    " 1 - 1.  False\n",
    " 1 - 2.  False\n",
    " 1 - 3.  True\n",
    " 1 - 4.  True\n",
    "\n",
    "2. \n",
    " 2 - 1.  ls: 현재 디렉토리에 있는 파일, 폴더 list\n",
    " 2 - 2.  cd: 디렉토리 이동\n",
    " 2 - 3.  mkdir: 디렉토리 생성\n",
    " 2 - 4. touch: 파일 생성\n",
    "\n",
    "3. \n",
    " tab을 누르면 자동완성 !"
   ]
  }
 ],
 "metadata": {
  "kernelspec": {
   "display_name": "Python 3",
   "language": "python",
   "name": "python3"
  },
  "language_info": {
   "codemirror_mode": {
    "name": "ipython",
    "version": 3
   },
   "file_extension": ".py",
   "mimetype": "text/x-python",
   "name": "python",
   "nbconvert_exporter": "python",
   "pygments_lexer": "ipython3",
   "version": "3.6.7"
  }
 },
 "nbformat": 4,
 "nbformat_minor": 2
}
