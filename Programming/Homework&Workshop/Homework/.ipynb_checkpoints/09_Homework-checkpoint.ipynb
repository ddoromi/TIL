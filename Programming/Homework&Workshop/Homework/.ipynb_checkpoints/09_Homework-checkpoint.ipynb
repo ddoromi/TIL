{
 "cells": [
  {
   "cell_type": "markdown",
   "metadata": {},
   "source": [
    "### 1. HTML 은무엇의약자인가? [3]\n",
    " (1) Hyperlinks and Text Markup Language\n",
    " \n",
    " (2) HomeToolMarkup Language\n",
    " \n",
    " (3) HyperTextMarkup Language\n",
    " \n",
    " (4) HyperToolMarkup Language"
   ]
  },
  {
   "cell_type": "markdown",
   "metadata": {},
   "source": [
    "### 2. 다음 중 맞으면 T, 틀리면 F를 기입하시오.\n",
    "\n",
    "〮웹 표준을 만드는 곳은 Mozilla 재단이다. [T]\n",
    "\n",
    "〮표(table) 을 만들 때에는 반드시 <'th'> 태그를 사용해야 한다. [F]\n",
    "\n",
    "〮제목(Heading) 태그는 제목 이외에는 사용하지 않는 것이 좋다. [T]\n",
    "\n",
    "〮인용문을 가리키는 태그는 <'blockquote'> 이다. [T]"
   ]
  },
  {
   "cell_type": "markdown",
   "metadata": {},
   "source": [
    "### 3. 보기 중 콘텐츠의 의미를 명확히 하기 위해 HTML5 에서 새롭게 추가된 시맨틱(semantic) 태그를 모두 선택하시오. => aticle, footer, nav\n",
    "> [ article, div, footer, nav, head, container ]"
   ]
  },
  {
   "attachments": {
    "image.png": {
     "image/png": "[encoded data removed]"
    }
   },
   "cell_type": "markdown",
   "metadata": {},
   "source": [
    "### 4. 아래 이미지와 같은 로그인 화면을 생성하는 html 코드를 작성하시오.\n",
    "![image.png](attachment:image.png)"
   ]
  },
  {
   "cell_type": "code",
   "execution_count": 5,
   "metadata": {},
   "outputs": [
    {
     "ename": "SyntaxError",
     "evalue": "invalid syntax (<ipython-input-5-8794679e34c1>, line 1)",
     "output_type": "error",
     "traceback": [
      "\u001b[1;36m  File \u001b[1;32m\"<ipython-input-5-8794679e34c1>\"\u001b[1;36m, line \u001b[1;32m1\u001b[0m\n\u001b[1;33m    <form>\u001b[0m\n\u001b[1;37m    ^\u001b[0m\n\u001b[1;31mSyntaxError\u001b[0m\u001b[1;31m:\u001b[0m invalid syntax\n"
     ]
    }
   ],
   "source": [
    "<form>\n",
    "    ID: <input type=\"text\" name=\"ID\" value=\"user\"><br>\n",
    "    User password: <input type=\"password\" name=\"PWD\" value=\"****\">\n",
    "    <input type=\"submit\" value=\"제출\">\n",
    "</form>"
   ]
  }
 ],
 "metadata": {
  "kernelspec": {
   "display_name": "Python 3",
   "language": "python",
   "name": "python3"
  },
  "language_info": {
   "codemirror_mode": {
    "name": "ipython",
    "version": 3
   },
   "file_extension": ".py",
   "mimetype": "text/x-python",
   "name": "python",
   "nbconvert_exporter": "python",
   "pygments_lexer": "ipython3",
   "version": "3.6.7"
  }
 },
 "nbformat": 4,
 "nbformat_minor": 2
}
