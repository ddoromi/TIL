{
 "cells": [
  {
   "cell_type": "code",
   "execution_count": 2,
   "metadata": {
    "scrolled": true
   },
   "outputs": [
    {
     "name": "stdout",
     "output_type": "stream",
     "text": [
      "*****\n",
      "*****\n",
      "*****\n",
      "*****\n",
      "*****\n",
      "*****\n",
      "*****\n",
      "*****\n",
      "*****\n"
     ]
    }
   ],
   "source": [
    "# 1. 가로의 길이가 n, 세로의 길이가 m인 직사각형 만들기\n",
    "n = 5\n",
    "m = 9\n",
    "\n",
    "while m > 0:\n",
    "    print('*' * n)\n",
    "    m -= 1"
   ]
  },
  {
   "cell_type": "code",
   "execution_count": 1,
   "metadata": {},
   "outputs": [
    {
     "name": "stdout",
     "output_type": "stream",
     "text": [
      "Students Average is 87.75\n"
     ]
    }
   ],
   "source": [
    "# 2. 딕셔너리에서 평균 출력하기\n",
    "student = {'python': 80, 'algorithm': 99, 'django': 89, 'flask': 83}\n",
    "print('Students Average is', sum(student.values())/len(student))"
   ]
  },
  {
   "cell_type": "code",
   "execution_count": 3,
   "metadata": {},
   "outputs": [
    {
     "name": "stdout",
     "output_type": "stream",
     "text": [
      "A is 3 \n",
      "B is 3 \n",
      "AB is 3 \n",
      "O is 3\n"
     ]
    }
   ],
   "source": [
    "# 3. For문 이용, 각 혈액형별 학생수 구하기\n",
    "blood_types = ['A', 'B', 'A', 'O', 'AB', 'AB', 'O', 'A', 'B', 'O', 'B', 'AB']\n",
    "\n",
    "a = b = ab = o = 0\n",
    "\n",
    "for blood in blood_types:\n",
    "    if blood == 'A':\n",
    "        a += 1\n",
    "    elif blood == 'B':\n",
    "        b += 1\n",
    "    elif blood == 'AB':\n",
    "        ab += 1\n",
    "    elif blood == 'O':\n",
    "        o += 1\n",
    "        \n",
    "print('A is', a, '\\nB is', b, '\\nAB is', ab, '\\nO is', o,)"
   ]
  }
 ],
 "metadata": {
  "kernelspec": {
   "display_name": "Python 3",
   "language": "python",
   "name": "python3"
  },
  "language_info": {
   "codemirror_mode": {
    "name": "ipython",
    "version": 3
   },
   "file_extension": ".py",
   "mimetype": "text/x-python",
   "name": "python",
   "nbconvert_exporter": "python",
   "pygments_lexer": "ipython3",
   "version": "3.6.7"
  }
 },
 "nbformat": 4,
 "nbformat_minor": 2
}
