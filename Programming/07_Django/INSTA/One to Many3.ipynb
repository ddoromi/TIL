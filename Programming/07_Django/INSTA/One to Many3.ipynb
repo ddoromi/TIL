{
 "cells": [
  {
   "cell_type": "markdown",
   "metadata": {},
   "source": [
    "# One To Many 3\n",
    "\n",
    "## Student\n",
    "\n",
    "| id(PK) | name          |\n",
    "| ------ | ------------- |\n",
    "| INT    | Charfield(20) |\n",
    "\n",
    "## Message\n",
    "\n",
    "| id (PK) | student (FK) - Student | content       |\n",
    "| ------- | ---------------------- | ------------- |\n",
    "| INT     | INT                    | Charfield(30) |\n",
    "\n",
    "## Reply\n",
    "\n",
    "| id (PK) | student (FK) - Student | message(FK) - Message | content       |\n",
    "| ------- | ---------------------- | --------------------- | ------------- |\n",
    "| INT     | INT                    | INT                   | Charfield(30) |"
   ]
  },
  {
   "cell_type": "code",
   "execution_count": null,
   "metadata": {},
   "outputs": [],
   "source": []
  }
 ],
 "metadata": {
  "kernelspec": {
   "display_name": "Django Shell-Plus",
   "language": "python",
   "name": "django_extensions"
  },
  "language_info": {
   "codemirror_mode": {
    "name": "ipython",
    "version": 3
   },
   "file_extension": ".py",
   "mimetype": "text/x-python",
   "name": "python",
   "nbconvert_exporter": "python",
   "pygments_lexer": "ipython3",
   "version": "3.7.3"
  }
 },
 "nbformat": 4,
 "nbformat_minor": 2
}
