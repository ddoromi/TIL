{
 "cells": [
  {
   "cell_type": "markdown",
   "metadata": {},
   "source": [
    "# Day1"
   ]
  },
  {
   "cell_type": "markdown",
   "metadata": {},
   "source": [
    "## Homework1"
   ]
  },
  {
   "cell_type": "code",
   "execution_count": 1,
   "metadata": {},
   "outputs": [
    {
     "name": "stdout",
     "output_type": "stream",
     "text": [
      "['False', 'None', 'True', 'and', 'as', 'assert', 'break', 'class', 'continue', 'def', 'del', 'elif', 'else', 'except', 'finally', 'for', 'from', 'global', 'if', 'import', 'in', 'is', 'lambda', 'nonlocal', 'not', 'or', 'pass', 'raise', 'return', 'try', 'while', 'with', 'yield']\n"
     ]
    }
   ],
   "source": [
    "# 1. Python에서 사용할 수 없는 식별자\n",
    "import keyword\n",
    "print(keyword.kwlist)"
   ]
  },
  {
   "cell_type": "code",
   "execution_count": 4,
   "metadata": {},
   "outputs": [
    {
     "data": {
      "text/plain": [
       "True"
      ]
     },
     "execution_count": 4,
     "metadata": {},
     "output_type": "execute_result"
    }
   ],
   "source": [
    "# 2.값 비교하기\n",
    "import math\n",
    "a = 0.1 * 3\n",
    "b = 0.3\n",
    "math.isclose(a, b)"
   ]
  },
  {
   "cell_type": "code",
   "execution_count": 9,
   "metadata": {},
   "outputs": [
    {
     "name": "stdout",
     "output_type": "stream",
     "text": [
      "주루주ㅜ주루주줄 \n",
      "\n",
      "\t태태ㅐ탵태탭\n",
      "\\\n"
     ]
    }
   ],
   "source": [
    "# 3.  줄바꿈, 탭, \\ 작성\n",
    "print('주루주ㅜ주루주줄 \\n')\n",
    "print('\\t태태ㅐ탵태탭')\n",
    "print('\\\\')"
   ]
  },
  {
   "cell_type": "code",
   "execution_count": 15,
   "metadata": {},
   "outputs": [
    {
     "name": "stdout",
     "output_type": "stream",
     "text": [
      "철수야 안녕~~~~ 꽃 한 송이 놓고 가요 @->---- 총총총\n"
     ]
    }
   ],
   "source": [
    "# 4. String Interpolathon\n",
    "name = \"철수\"\n",
    "print(f'{name}야 안녕~~~~ 꽃 한 송이 놓고 가요 @->---- 총총총')"
   ]
  },
  {
   "cell_type": "markdown",
   "metadata": {},
   "source": [
    "5. 다음 중 형변환시 오류가 발생하는 것은?   5) int(\"3.5\")\n",
    "\n",
    "    1)  str(1)     2) int('30')     3) int(5)    4) bool('50')    5) int(\"3.5\")"
   ]
  }
 ],
 "metadata": {
  "kernelspec": {
   "display_name": "Python 3",
   "language": "python",
   "name": "python3"
  },
  "language_info": {
   "codemirror_mode": {
    "name": "ipython",
    "version": 3
   },
   "file_extension": ".py",
   "mimetype": "text/x-python",
   "name": "python",
   "nbconvert_exporter": "python",
   "pygments_lexer": "ipython3",
   "version": "3.6.7"
  }
 },
 "nbformat": 4,
 "nbformat_minor": 2
}
