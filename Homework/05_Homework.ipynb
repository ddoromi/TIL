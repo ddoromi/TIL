{
 "cells": [
  {
   "cell_type": "code",
   "execution_count": 4,
   "metadata": {},
   "outputs": [
    {
     "name": "stdout",
     "output_type": "stream",
     "text": [
      "red\n",
      "blue\n",
      "white\n",
      "black\n"
     ]
    }
   ],
   "source": [
    "# 1. 리스트를 받아 값을 하나씩 출력하는 함수\n",
    "\n",
    "def print_list(my_list):\n",
    "    for i in my_list:\n",
    "        print (i)\n",
    "\n",
    "print_list(['red', 'blue', 'white', 'black'])"
   ]
  },
  {
   "cell_type": "code",
   "execution_count": 16,
   "metadata": {},
   "outputs": [
    {
     "name": "stdout",
     "output_type": "stream",
     "text": [
      "0 red\n",
      "1 blue\n",
      "2 white\n",
      "3 black\n"
     ]
    }
   ],
   "source": [
    "# 2. 인덱스와 함께 출력하는 코드\n",
    "\n",
    "def print_index_list(my_list):\n",
    "    for index, i in enumerate(my_list):\n",
    "        print(index, i)\n",
    "\n",
    "print_index_list(['red', 'blue', 'white', 'black'])"
   ]
  },
  {
   "cell_type": "code",
   "execution_count": 21,
   "metadata": {},
   "outputs": [
    {
     "name": "stdout",
     "output_type": "stream",
     "text": [
      "first_name\n",
      "last_name\n",
      "number\n",
      "seongryeong\n",
      "kwon\n",
      "01029806198\n",
      "first_name seongryeong\n",
      "last_name kwon\n",
      "number 01029806198\n"
     ]
    }
   ],
   "source": [
    "# 3. 딕셔너리 함수\n",
    "\n",
    "my_dict = {\n",
    "    'first_name' : 'seongryeong',\n",
    "    'last_name' : 'kwon',\n",
    "    'number' : '01029806198'\n",
    "}\n",
    "for key in my_dict:\n",
    "    print (key)\n",
    "\n",
    "for value in my_dict.values():\n",
    "    print (value)\n",
    "\n",
    "for key, value in my_dict.items():\n",
    "    print (key, value)"
   ]
  },
  {
   "cell_type": "code",
   "execution_count": 24,
   "metadata": {},
   "outputs": [
    {
     "name": "stdout",
     "output_type": "stream",
     "text": [
      "6\n",
      "None\n"
     ]
    }
   ],
   "source": [
    "# 4. result에 저장된 값\n",
    "\n",
    "def my_func(a, b):\n",
    "    c = a + b\n",
    "    print(c)\n",
    "    \n",
    "result = my_func(1, 5)\n",
    "print(result)"
   ]
  }
 ],
 "metadata": {
  "kernelspec": {
   "display_name": "Python 3",
   "language": "python",
   "name": "python3"
  },
  "language_info": {
   "codemirror_mode": {
    "name": "ipython",
    "version": 3
   },
   "file_extension": ".py",
   "mimetype": "text/x-python",
   "name": "python",
   "nbconvert_exporter": "python",
   "pygments_lexer": "ipython3",
   "version": "3.6.7"
  }
 },
 "nbformat": 4,
 "nbformat_minor": 2
}
