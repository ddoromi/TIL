{
 "cells": [
  {
   "cell_type": "markdown",
   "metadata": {},
   "source": [
    "# Problem Set"
   ]
  },
  {
   "cell_type": "markdown",
   "metadata": {},
   "source": [
    "## 1. 이상한 덧셈\n",
    "> 숫자로 구성된 리스트에서 양의 정수의 합을 구하는 함수, `positive_sum`을 만들어 보아요\n",
    "\n",
    "예시)\n",
    "```python\n",
    "positive_sum([-1, -10, 2]) #3\n",
    "positive_sum([-1, -2, -3, -4]) #0\n",
    "```"
   ]
  },
  {
   "cell_type": "code",
   "execution_count": null,
   "metadata": {},
   "outputs": [],
   "source": []
  },
  {
   "cell_type": "code",
   "execution_count": 3,
   "metadata": {},
   "outputs": [
    {
     "data": {
      "text/plain": [
       "0"
      ]
     },
     "execution_count": 3,
     "metadata": {},
     "output_type": "execute_result"
    }
   ],
   "source": [
    "def positive_sum(li=[]):\n",
    "    result = 0\n",
    "    for num in li:\n",
    "        if num > 0:\n",
    "            result += num\n",
    "    return result\n",
    "\n",
    "positive_sum([-1, -10, 2])\n",
    "positive_sum([-1, -2, -3, -4])"
   ]
  },
  {
   "cell_type": "code",
   "execution_count": 2,
   "metadata": {},
   "outputs": [
    {
     "data": {
      "text/plain": [
       "0"
      ]
     },
     "execution_count": 2,
     "metadata": {},
     "output_type": "execute_result"
    }
   ],
   "source": [
    "def pos_sum(numbers):\n",
    "    return sum(x for x in numbers if x > 0)\n",
    "\n",
    "pos_sum([-1, -10, 2])\n",
    "pos_sum([-1, -2, -3, -4])"
   ]
  },
  {
   "cell_type": "markdown",
   "metadata": {},
   "source": [
    "### 2. 문자열 탐색\n",
    "> 문자열 요소로만 이루어진 리스트를 넣었을 때, 문자열의 길이가 2 이상이고, 주어진 문자열의 첫 번째와 마지막 문자가 같은 문자열의 수를 세는 함수 `start_end`를 작성하세요\n",
    "\n",
    "예시) \n",
    "```python\n",
    "start_end(['level', 'asdwe', 's', 'abadsfa', 'q1q']) #3\n",
    "```"
   ]
  },
  {
   "cell_type": "code",
   "execution_count": 8,
   "metadata": {},
   "outputs": [
    {
     "data": {
      "text/plain": [
       "4"
      ]
     },
     "execution_count": 8,
     "metadata": {},
     "output_type": "execute_result"
    }
   ],
   "source": [
    "def start_end(li=[]):\n",
    "    count = 0\n",
    "    for string in li:\n",
    "        if len(string) >= 2:\n",
    "            if string[0] == string[len(string)-1]:\n",
    "                count += 1\n",
    "    return count \n",
    "\n",
    "start_end(['level', 'asdwe', 'ss', 'abadsfa', 'q1q'])"
   ]
  },
  {
   "cell_type": "code",
   "execution_count": null,
   "metadata": {},
   "outputs": [],
   "source": [
    "def start_end(words):\n",
    "    count = 0\n",
    "    for word in words:\n",
    "        if len(word) > 1  and word[0] == word[-1]:\n",
    "            count += 1\n",
    "    return count"
   ]
  },
  {
   "cell_type": "markdown",
   "metadata": {},
   "source": [
    "### 3. Collatz\n",
    "> Collatz 추측: 어떤 자연수 n 이던지, 다음과 같은 작업을 반복하면 1로 만들 수 있다.\n",
    "\n",
    "1. n이 짝수라면 2로 나눈다.\n",
    "2. n이 홀수라면 3을 곱하고 1을 더한다.\n",
    "3. 결과로 나온 수에 1/2의 작업을 1이 될 때까지 반복한다.\n",
    "\n",
    "> 예를 들어 n이 6이면, 6 => 3 => 10 => 5 => 16 => 8 => 4 => 2 => 1 이 되며 8번(=> 갯수)만에 1이 된다. 자연수 n이 들어왔을 때, 몇 번의 작업만에 1이 되는 지를 `return`하는 함수 `collatz()`를 완성하세요\n",
    "\n",
    "> 단! 500번을 넘어가도 1이 되지 않는다면 -1을 `return` 하세요"
   ]
  },
  {
   "cell_type": "code",
   "execution_count": 8,
   "metadata": {},
   "outputs": [
    {
     "name": "stdout",
     "output_type": "stream",
     "text": [
      "8\n",
      "4\n",
      "-1\n"
     ]
    }
   ],
   "source": [
    "def collatz(n, count=0):\n",
    "    if n == 1:\n",
    "        return count\n",
    "    else:\n",
    "        n = n * 3 + 1 if n % 2 == 1 else n / 2\n",
    "        count += 1   \n",
    "        if count > 500:\n",
    "            return -1\n",
    "    return collatz(n, count)\n",
    "            \n",
    "print(collatz(6)) #8\n",
    "print(collatz(16)) #4\n",
    "print(collatz(626331)) #-1    "
   ]
  },
  {
   "cell_type": "code",
   "execution_count": 10,
   "metadata": {},
   "outputs": [],
   "source": [
    "def collatz2(num):\n",
    "    for i in range(500):\n",
    "        num = num * 3 + 1 if num % 2 else num / 2\n",
    "        \n",
    "        if num == 1:\n",
    "            return i + 1\n",
    "    return -1"
   ]
  },
  {
   "cell_type": "markdown",
   "metadata": {},
   "source": [
    "### 4. 솔로 천국\n",
    "> 리스트가 주어질 대, 리스트의 요소 `e`는 `range(0, 10)`에 포함되는 자연수이다. 리스트에서 연속적으로 나타나는 숫자는 하나만 남기고 전부 제거하여 `return`하는 함수 `lonely()`를 작성해 보시오. 이때 제거된 후 남은 수들을 반환할 때는 리스트의 요소들이 순서를 유지해야 합니다.\n",
    "\n",
    "예시)\n",
    "```python\n",
    "lonely([1, 1, 3, 3, 0, 1, 1, 3, 0, 3]) #[1, 3, 0]\n",
    "lonely([4, 4, 3, 3, 3, 4]) #[4, 3]\n",
    "```"
   ]
  },
  {
   "cell_type": "code",
   "execution_count": 3,
   "metadata": {},
   "outputs": [
    {
     "name": "stdout",
     "output_type": "stream",
     "text": [
      "[1, 3, 0]\n",
      "[4, 3]\n",
      "[1, 2, 4, 5, 6, 9, 8, 7]\n"
     ]
    }
   ],
   "source": [
    "def lonely(li=[]):\n",
    "    result = []\n",
    "    for num in range(1, len(li)+1):\n",
    "        if num == len(li):\n",
    "            if li[num-2] != li[num-1]:\n",
    "                if li[num-1] not in result:\n",
    "                    result.append(li[num-1])\n",
    "                break\n",
    "                \n",
    "        if li[num-1] != li[num]:\n",
    "            if li[num-1] not in result:\n",
    "                result.append(li[num-1])\n",
    "        \n",
    "    return result\n",
    "\n",
    "print(lonely([1, 1, 3, 3, 0, 1, 1, 3, 0, 3]))\n",
    "print(lonely([4, 4, 3, 3, 3, 4]))\n",
    "print(lonely([1, 2, 2, 4, 5, 6, 1, 2, 9, 8, 7, 8]))\n",
    "    "
   ]
  },
  {
   "cell_type": "code",
   "execution_count": 5,
   "metadata": {},
   "outputs": [
    {
     "name": "stdout",
     "output_type": "stream",
     "text": [
      "[1, 3, 0]\n",
      "[4, 3]\n",
      "[1, 2, 4, 5, 6, 9, 8, 7]\n"
     ]
    }
   ],
   "source": [
    "def lonely2(li):\n",
    "    result = []\n",
    "    for num in li:\n",
    "        if num not in result:\n",
    "            result.append(num)\n",
    "    \n",
    "    return result\n",
    "\n",
    "print(lonely2([1, 1, 3, 3, 0, 1, 1, 3, 0, 3]))\n",
    "print(lonely2([4, 4, 3, 3, 3, 4]))\n",
    "print(lonely2([1, 2, 2, 4, 5, 6, 1, 2, 9, 8, 7, 8]))"
   ]
  },
  {
   "cell_type": "markdown",
   "metadata": {},
   "source": [
    "### 5. RGB 삼각형\n",
    "| BG | RG | BR | RR | GG | BB |\n",
    "|----|----|----|----|----|----|\n",
    "| R  | B  | G  | R  | G  | B  |\n",
    "\n",
    "> 입력으로 `'R', 'G', 'B'` 가 섞여있는 문자열이 들어온다. 문자열은 다음과 같이 합쳐진다. 해당 문자열을 처리하여 마지막 색깔만 `return`하는 `triangle()` 을 작성하세요.\n",
    "```\n",
    "R R G B R G B B\n",
    " R B R G B R B\n",
    "  G G B R G G\n",
    "   G R G B G\n",
    "    B B R R\n",
    "     B G R\n",
    "      R B\n",
    "       G\n",
    "```\n",
    "예시)\n",
    "```python\n",
    "triangle('RRGBRGBB') # G\n",
    "triangle('GB') # R\n",
    "triangle('B') # B\n",
    "triangle('RGBG') # B\n",
    "```"
   ]
  },
  {
   "cell_type": "code",
   "execution_count": 1,
   "metadata": {},
   "outputs": [
    {
     "name": "stdout",
     "output_type": "stream",
     "text": [
      "G\n",
      "R\n",
      "B\n",
      "B\n"
     ]
    }
   ],
   "source": [
    "def triangle(li='', result=''):\n",
    "    if len(li) == 1:\n",
    "        return li\n",
    "    else:\n",
    "        for rgb in range(1, len(li)+1):\n",
    "            if rgb == len(li):\n",
    "                break\n",
    "            if str(li[rgb-1]+li[rgb]) in ['BG', 'GB', 'RR']:\n",
    "                result += 'R'\n",
    "            elif str(li[rgb-1]+li[rgb]) in ['RG', 'GR', 'BB']:\n",
    "                result += 'B'\n",
    "            else:\n",
    "                result += 'G'\n",
    "        \n",
    "        li = result        \n",
    "        return triangle(li)\n",
    "\n",
    "print(triangle('RRGBRGBB')) # G\n",
    "print(triangle('GB')) # R\n",
    "print(triangle('B')) # B\n",
    "print(triangle('RGBG')) # B"
   ]
  },
  {
   "cell_type": "markdown",
   "metadata": {},
   "source": [
    "### 6.(???) 홀수개를  찾아라\n",
    "> 입력으로 list가 하나 들어옵니다. 이 list에는 1개의 숫자만 홀수개 들어있습니다. 이 1개의 홀수개인 숫자를 return하는 find_odd()를 작성하세요.\n",
    "\n",
    "예시) \n",
    "```python\n",
    "find_odd([1, 1, 2, 2, 3, 3, 3]) #3\n",
    "find_odd([2, 1, 2]) #1\n",
    "find_odd([1, 2, 2, 3, 2, 2, 1])#3\n",
    "```\n"
   ]
  },
  {
   "cell_type": "code",
   "execution_count": 14,
   "metadata": {},
   "outputs": [
    {
     "name": "stdout",
     "output_type": "stream",
     "text": [
      "8\n",
      "1\n",
      "3\n",
      "2\n"
     ]
    }
   ],
   "source": [
    "def find_odd(li):\n",
    "    for i in range(len(li)):\n",
    "        count = 0\n",
    "        for num in li:\n",
    "            if num == li[i]:\n",
    "                count += 1\n",
    "        if count % 2 == 1:\n",
    "            return li[i]\n",
    "\n",
    "print(find_odd([1, 1, 2, 2, 3, 3, 3, 3, 8])) #3\n",
    "print(find_odd([2, 1, 2])) #1\n",
    "print(find_odd([1, 2, 2, 3, 2, 2, 1]))#3\n",
    "print(find_odd([1, 2, 1]))"
   ]
  },
  {
   "cell_type": "code",
   "execution_count": 15,
   "metadata": {},
   "outputs": [
    {
     "name": "stdout",
     "output_type": "stream",
     "text": [
      "8\n",
      "1\n",
      "3\n",
      "2\n"
     ]
    }
   ],
   "source": [
    "def find_odd2(numbers):\n",
    "    for uniq in list(set(numbers)):\n",
    "        if numbers.count(uniq) % 2:\n",
    "            return uniq\n",
    "        \n",
    "print(find_odd2([1, 1, 2, 2, 3, 3, 3, 3, 8])) #3\n",
    "print(find_odd2([2, 1, 2])) #1\n",
    "print(find_odd2([1, 2, 2, 3, 2, 2, 1]))#3\n",
    "print(find_odd2([1, 2, 1]))"
   ]
  }
 ],
 "metadata": {
  "kernelspec": {
   "display_name": "Python 3",
   "language": "python",
   "name": "python3"
  },
  "language_info": {
   "codemirror_mode": {
    "name": "ipython",
    "version": 3
   },
   "file_extension": ".py",
   "mimetype": "text/x-python",
   "name": "python",
   "nbconvert_exporter": "python",
   "pygments_lexer": "ipython3",
   "version": "3.6.7"
  }
 },
 "nbformat": 4,
 "nbformat_minor": 2
}
