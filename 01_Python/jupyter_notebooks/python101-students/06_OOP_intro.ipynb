{
 "cells": [
  {
   "cell_type": "markdown",
   "metadata": {},
   "source": [
    "# 시작하기전에\n",
    "\n",
    "<wikipedia - 객체지향 프로그래밍> \n",
    ">\n",
    "> 객체 지향 프로그래밍(영어: Object-Oriented Programming, OOP)은 컴퓨터 프 로그래밍의 패러다임의 하나이다. 객체 지향 프로그래밍은 컴퓨터 프로그램을 명령어의 목록으로 보는 시각에서 벗어나 여러 개의 독립된 단위, 즉 \"객체\"들의 모임으로 파악하고자 하는 것이다. 각각의 객체는 메시지를 주고받고, 데이터를 처리할 수 있다.\n",
    ">\n",
    "> 명령형 프로그래밍인 절차지향 프로그래밍에서 발전된 형태를 나타내며, 기본 구성요소는 다음과 같다.\n",
    "\n",
    "* 클래스(Class) - 같은 종류(또는 문제 해결을 위한)의 집단에 속하는 속성(attribute)과 행위(behavior)를 정의한 것으로 객체지향 프로그램의 기본적인 사용자 정의 데이터형(user define data type)이라고 할 수 있다. 클래스는 프로그래머가 아니지만 해결해야 할 문제가 속하는 영역에 종사하는 사람이라면 사용할 수 있고, 다른 클래스 또는 외부 요소와 독립적으로 디자인하여야 한다.\n",
    "\n",
    "\n",
    "* 인스턴스 - 클래스의 인스턴스(실제로 메모리상에 할당된 것)이다. 객체는 자신 고유의 속성(attribute)을 가지며 클래스에서 정의한 행위(behavior)를 수행할 수 있다. 객체의 행위는 클래스에 정의된 행위에 대한 정의를 공유함으로써 메모리를 경제적으로 사용한다. 실제 불러와서 쓰이면 오브젝트\n",
    "\n",
    "\n",
    "* 메서드(Method) - 클래스로부터 생성된 객체를 사용하는 방법으로서 객체에 명령을 내리는 것이라 할 수 있다. 메서드는 한 객체의 속성을 조작하는 데 사용된다."
   ]
  },
  {
   "cell_type": "code",
   "execution_count": null,
   "metadata": {},
   "outputs": [],
   "source": [
    "# 복소수를 하나 만들어보고, 타입을 출력해봅시다.\n",
    "img_number = 3 + 4j\n",
    "print(type(img_number))"
   ]
  },
  {
   "cell_type": "code",
   "execution_count": null,
   "metadata": {},
   "outputs": [],
   "source": [
    "# 허수부랑 실수부를 함께 출력해봅시다.\n",
    "print(img_number.real)\n",
    "print(img_number.imag)"
   ]
  },
  {
   "cell_type": "code",
   "execution_count": null,
   "metadata": {},
   "outputs": [],
   "source": [
    "# 리스트를 하나 만들고 정렬해봅시다.\n",
    "a = [3, 2, 1]\n",
    "a.sort()\n",
    "print(a)"
   ]
  },
  {
   "cell_type": "code",
   "execution_count": null,
   "metadata": {},
   "outputs": [],
   "source": [
    "# list class의 object가 할 수 있는 것들을 알아봅시다.\n",
    "print(dir(list))"
   ]
  },
  {
   "cell_type": "code",
   "execution_count": null,
   "metadata": {},
   "outputs": [],
   "source": []
  },
  {
   "cell_type": "markdown",
   "metadata": {},
   "source": [
    "## Turtle\n",
    "> 거북이 클래스로 OOP 배우기"
   ]
  },
  {
   "cell_type": "code",
   "execution_count": 2,
   "metadata": {},
   "outputs": [],
   "source": [
    "import turtle"
   ]
  },
  {
   "cell_type": "markdown",
   "metadata": {},
   "source": [
    "turtle.Screen()"
   ]
  },
  {
   "cell_type": "code",
   "execution_count": 2,
   "metadata": {},
   "outputs": [],
   "source": [
    "class Form:\n",
    "    name = ''\n",
    "    age = 0\n",
    "    phone = ''\n",
    "    intro = ''\n",
    "    \n",
    "    def submit(teacher):\n",
    "        print(f'{teacher} 선생님에게 제출하였습니다.')\n",
    "        \n",
    "form_sr = Form()\n",
    "form_sr.name = '권성령' \n",
    "form_sr.age = 18\n",
    "form_sr.intro = 'ssafy'\n",
    "form_sr.submit = 'hwang'"
   ]
  },
  {
   "cell_type": "markdown",
   "metadata": {},
   "source": [
    "## 실습 문제\n",
    "\n",
    "> 프로그래밍으로 나와 친구의 이름을 저장해보세요.\n",
    ">\n",
    "\n",
    "**각자의 명함과 지갑을 만들어봅시다.**\n",
    "\n",
    "* 내 생일, 전화번호, 이메일주소 정보를 담은 변수를 확인해봅시다.\n",
    "\n",
    "* 주머니(pocket)에는 돈(won)을 포함하여 현재 가지고 있는 것을 작성해보세요.\n",
    "\n",
    "* 나는 인사를 하면서 내 명함에 있는 정보 하나를 이야기합니다. `greeting` 함수를 만듭시다.\n",
    "\n",
    "* 나는 주머니에 원하는 것과 갯수를 지정하여 넣을 수 있습니다. \n",
    "\n",
    "  기존에 값이 있으면, 갯수를 추가하고 없으면 새로 만드는 `in_my_pocket` 함수를 만듭시다.\n",
    "  \n",
    "**친구의 정보와 지갑도 만들어봅시다.**"
   ]
  },
  {
   "cell_type": "code",
   "execution_count": null,
   "metadata": {},
   "outputs": [],
   "source": [
    "# 아래에 자유롭게 코드를 작성해보세요.\n",
    "my_info = {\n",
    "    'name': '권성령',\n",
    "    'phone': '01029806198',\n",
    "    'email': 'ryeong_22@naver.com'\n",
    "}\n",
    "my_pocket = {\n",
    "    'money': 10000,\n",
    "    'candy': 3\n",
    "}\n",
    "def greeting(info):\n",
    "    return f'안녕, {info[\"name\"]}이야. {info[\"phone\"]}'\n",
    "          \n",
    "def in_my_pocket(pocket, stuff, count):\n",
    "    if pocket.get(stuff):\n",
    "        pocket[stuff] += count\n",
    "    else:\n",
    "        pocket[stuff] = count\n",
    "    return pocket\n"
   ]
  },
  {
   "cell_type": "code",
   "execution_count": null,
   "metadata": {},
   "outputs": [],
   "source": [
    "class_mates = {\n",
    "    '권성령': {'github': 'ddorom', 'birthday': '941021', 'blood_type': 'AB'},\n",
    "    '이상주': {'github': 'leesangju92', 'bitrhday': '920519', 'blood_type': 'O'},\n",
    "    '장재영': {'github': 'snowink1137', 'bitrhday': '900416', 'blood_type': 'O'}\n",
    "}\n"
   ]
  },
  {
   "cell_type": "code",
   "execution_count": null,
   "metadata": {},
   "outputs": [],
   "source": [
    "def arrive(mate):\n",
    "    if mate['name'] == '유태영':\n",
    "        print('화장실 가욥.')\n",
    "        print('물 마셔욥')"
   ]
  },
  {
   "cell_type": "code",
   "execution_count": null,
   "metadata": {},
   "outputs": [],
   "source": [
    "class Mate:\n",
    "    classroom = 703\n",
    "    ban = 3\n",
    "    def __init__(self, name, github, blood_type, arrive):\n",
    "        self.name = name\n",
    "        self.github = github\n",
    "        self.blood_type = blood_type\n",
    "        self.arrive = arrive\n",
    "\n",
    "    def intro(self):\n",
    "        print(f'안녕하세요! 제 이름은 {self.name}입니다.')\n",
    "        print(f'제 github id는 {self.github}이고, 혈액형은 {self.blood_type}입니다.')\n",
    "    \n",
    "    def dochak(self):\n",
    "        return (f'{self.name}은 도착하면 {self.arrive}를 합니다.')\n",
    "        \n",
    "kwon = Mate('권성령', 'ddorom', 'AB', '화장실')\n",
    "print(kwon.get_info())\n",
    "print(kwon.dochak())\n",
    "print(kwon.ban, kwon.classroom)\n",
    "\n",
    "lee = Mate('이상주', 'leesangju92', 'O', '')\n",
    "print(lee.get_info())\n",
    "print(lee.dochak())\n",
    "print(lee.ban, lee.classroom)\n",
    "\n",
    "jang = Mate('장재영', 'snowink1137', 'O', '')\n",
    "print(jang.get_info())\n",
    "print(jang.dochak())\n",
    "print(jang.ban, jang.classroom)"
   ]
  },
  {
   "cell_type": "code",
   "execution_count": null,
   "metadata": {},
   "outputs": [],
   "source": [
    "class Text:\n",
    "    content = \"\" # 속성\n",
    "    \n",
    "    def __init__(self, content):\n",
    "        self.content = content\n",
    "        \n",
    "    def is_palindrome(self):\n",
    "        txt = self.content.replace(' ','').lower()\n",
    "        return txt == ''.join(reversed(txt))\n",
    "    \n",
    "    def start_hangman(self):\n",
    "        guess = input('한 글자만 넣어')\n",
    "        if guess in self.content:\n",
    "            print('오 맞음!')\n",
    "            return True\n",
    "        else:\n",
    "            print('ㅋㅋㅋㅋㅋ')\n",
    "            return False\n",
    "        \n",
    "my_text = Text('A santa at NASA')\n",
    "print(my_text.is_palindrome())\n",
    "\n",
    "your_text = Text('apple')\n",
    "your_text.start_hangman()\n"
   ]
  },
  {
   "cell_type": "code",
   "execution_count": null,
   "metadata": {},
   "outputs": [],
   "source": [
    "# in_my_pocket 함수를 통해 내 주머니에 내용을 추가해봅시다.\n",
    "in_my_pocket(my_pocket, 'card', 3)"
   ]
  },
  {
   "cell_type": "code",
   "execution_count": null,
   "metadata": {},
   "outputs": [],
   "source": [
    "# greeting 함수를 통해 인사를 해봅시다.\n",
    "#=> 안녕, kim이야. 01012345678\n",
    "greeting(my_info)"
   ]
  },
  {
   "cell_type": "markdown",
   "metadata": {},
   "source": [
    "# 클래스 및 인스턴스"
   ]
  },
  {
   "cell_type": "markdown",
   "metadata": {},
   "source": [
    "## 클래스 객체\n",
    "\n",
    "```python\n",
    "class ClassName:\n",
    "    \n",
    "```\n",
    "\n",
    "* 선언과 동시에 클래스 객체가 생성됨.\n",
    "\n",
    "* 또한, 선언된 공간은 지역 스코프로 사용된다.\n",
    "\n",
    "* 정의된 어트리뷰트 중 변수는 멤버 변수로 불리운다.\n",
    "\n",
    "* 정의된 함수(`def`)는 메서드로 불리운다."
   ]
  },
  {
   "cell_type": "code",
   "execution_count": null,
   "metadata": {},
   "outputs": [],
   "source": [
    "# Class를 만들어봅시다.\n",
    "class TestClass:\n",
    "    \"\"\"Test Class\"\"\"\n",
    "    \n",
    "print(type(TestClass))\n",
    "print(type(Text))\n",
    "\n",
    "tc = TestClass()\n",
    "print(type(tc))"
   ]
  },
  {
   "cell_type": "code",
   "execution_count": null,
   "metadata": {},
   "outputs": [],
   "source": [
    "# Person 클래스를 만들어봅시다.\n",
    "class Person:\n",
    "    name = '홍길동'\n",
    "    \n",
    "    def say_hi(self):\n",
    "        print('HELLO!')\n",
    "        \n",
    "    def intro(self):\n",
    "        print(f'I am {self.name}')\n",
    "\n",
    "p = Person()\n",
    "p.say_hi()"
   ]
  },
  {
   "cell_type": "markdown",
   "metadata": {},
   "source": [
    "* 선언시 self는 반드시 작성해주세요! 나중에 설명드립니다."
   ]
  },
  {
   "cell_type": "markdown",
   "metadata": {},
   "source": [
    "## 인스턴스 객체\n",
    "\n",
    "* 인스턴스 객체는 `ClassName()`을 호출함으로써 선언된다.\n",
    "\n",
    "* 인스턴스 객체와 클래스 객체는 서로 다른 이름 공간을 가지고 있다.\n",
    "\n",
    "* 인스턴스 -> 클래스 -> 전역 순으로 탐색을 한다."
   ]
  },
  {
   "cell_type": "code",
   "execution_count": null,
   "metadata": {},
   "outputs": [],
   "source": [
    "# Person 클래스 iu 인스턴스를 만들어봅시다. \n",
    "iu = Person()"
   ]
  },
  {
   "cell_type": "code",
   "execution_count": null,
   "metadata": {},
   "outputs": [],
   "source": [
    "# 인사하는 메서드를 호출해봅시다.\n",
    "iu.say_hi()"
   ]
  },
  {
   "cell_type": "code",
   "execution_count": null,
   "metadata": {},
   "outputs": [],
   "source": [
    "# iu의 이름을 확인해봅시다.\n",
    "iu.name"
   ]
  },
  {
   "cell_type": "code",
   "execution_count": null,
   "metadata": {},
   "outputs": [],
   "source": [
    "# iu로 이름을 바꿔주세요.\n",
    "iu.name = 'iu'\n",
    "iu.name"
   ]
  },
  {
   "cell_type": "code",
   "execution_count": null,
   "metadata": {},
   "outputs": [],
   "source": [
    "# iu가 인사를 합니다.\n",
    "iu.intro()"
   ]
  },
  {
   "cell_type": "code",
   "execution_count": null,
   "metadata": {},
   "outputs": [],
   "source": [
    "# iu와 Person이 같은지 확인해보겠습니다.\n",
    "isinstance(iu, Person)\n",
    "# if isinstance(user, input, str):"
   ]
  },
  {
   "cell_type": "code",
   "execution_count": null,
   "metadata": {},
   "outputs": [],
   "source": [
    "# iu와 Person이 같은지 확인해보겠습니다.\n",
    "type(iu) == Person\n",
    "type('a') == str"
   ]
  },
  {
   "cell_type": "code",
   "execution_count": null,
   "metadata": {},
   "outputs": [],
   "source": [
    "# iu를 출력해봅시다.\n",
    "print(iu)"
   ]
  },
  {
   "cell_type": "code",
   "execution_count": null,
   "metadata": {},
   "outputs": [],
   "source": [
    "# iu를 출력해봅시다 2.\n",
    "iu"
   ]
  },
  {
   "cell_type": "code",
   "execution_count": null,
   "metadata": {},
   "outputs": [],
   "source": [
    "# type을 확인해봅시다."
   ]
  },
  {
   "cell_type": "markdown",
   "metadata": {},
   "source": [
    "* 파이썬 출력의 비밀 : repr, str"
   ]
  },
  {
   "cell_type": "code",
   "execution_count": null,
   "metadata": {},
   "outputs": [],
   "source": []
  },
  {
   "cell_type": "code",
   "execution_count": null,
   "metadata": {},
   "outputs": [],
   "source": [
    "# 강다니엘을 만들어봅시다.\n",
    "jonjal = Person()\n",
    "jonjal.name = 'kangdaniel'"
   ]
  },
  {
   "cell_type": "code",
   "execution_count": null,
   "metadata": {},
   "outputs": [],
   "source": [
    "# 강다니엘을 출력해봅시다.\n",
    "jonjal.intro()"
   ]
  },
  {
   "cell_type": "markdown",
   "metadata": {},
   "source": [
    "## 실습 문제 발전\n",
    "\n",
    "> 지금까지 배운 것을 통해서 Person 클래스를 만들고, 친구와 나를 표현해봅시다.\n",
    ">\n",
    "> 주머니와 정보를 가지고 있고 (멤버 변수)\n",
    "> \n",
    "> 인사(`greeting()`)와 주머니에 내용을 추가(`in_my_pocket()`)할 수 있습니다. (메서드)\n",
    ">\n",
    "> 추가적으로 `get_my_pocket()`으로 지갑에 담긴 정보를 가져와 봅시다.\n",
    ">\n",
    "> 그리고 사람을 출력하면, 지갑을 제외한 정보를 보여줘보세요. "
   ]
  },
  {
   "cell_type": "code",
   "execution_count": null,
   "metadata": {},
   "outputs": [],
   "source": [
    "# 아래에 코드를 작성해주세요.    \n"
   ]
  },
  {
   "cell_type": "markdown",
   "metadata": {},
   "source": [
    "## MyList만들기\n",
    "\n",
    "> 이제 배운 것을 활용하여 나만의 리스트 객체를 만들 수 있습니다. \n",
    ">\n",
    "> `class MyList:`\n",
    ">\n",
    "\n",
    "```\n",
    "* 변수\n",
    "data : 비어 있는 리스트\n",
    "\n",
    "* 메서드 \n",
    "append : 값을 받아 추가합니다.\n",
    "pop : 마지막에 있는 값을 없애고, 해당 값을 리턴합니다.\n",
    "reverse : 제자리에서 뒤집고 리턴 값은 없습니다.\n",
    "count(x) : x의 갯수를 반환합니다.\n",
    "clear : 값을 모두 삭제합니다.\n",
    "\n",
    "__repr__ : ex) '리스트 내용 1, 2, 3'\n",
    "```"
   ]
  },
  {
   "cell_type": "code",
   "execution_count": null,
   "metadata": {},
   "outputs": [],
   "source": [
    "# 아래에 코드를 작성해주세요."
   ]
  },
  {
   "cell_type": "markdown",
   "metadata": {},
   "source": [
    "## 자유롭게 만들어보기\n",
    "\n",
    "> 이 세상에 있는 무엇인가를 자유롭게 표현해주세요."
   ]
  },
  {
   "cell_type": "code",
   "execution_count": 10,
   "metadata": {},
   "outputs": [],
   "source": [
    "# 아래에 코드를 작성해주세요.\n",
    "import random\n",
    "class Pokemon:\n",
    "    def __init__(self, name, level):\n",
    "        self.name = name\n",
    "        self.level = level\n",
    "        self.hp = level * 10\n",
    "        \n",
    "    def set_hp(self, point):\n",
    "        self.hp += point\n",
    "    \n",
    "    def check_status(self):\n",
    "        if self.hp > 0:\n",
    "            return True\n",
    "        else:\n",
    "            return False\n",
    "    \n",
    "    def body_attack(self, enemy):\n",
    "        print(f'{self.name}이(가) {enemy.name}(에)게 박치기 공격!!!!!!!!!!!!!!!!!!.')\n",
    "        return enemy.set_hp(-2.5 * self.level)"
   ]
  },
  {
   "cell_type": "code",
   "execution_count": 17,
   "metadata": {},
   "outputs": [],
   "source": [
    "class Pikachu(Pokemon):\n",
    "    type = ('elec')\n",
    "    def volt_attack(self, enemy):\n",
    "        print(f'{self.name}이(가) {enemy.name}(에)게 전기 충격을 보냈피카츄.')\n",
    "        return enemy.set_hp(-2 * self.level)\n",
    "    \n",
    "    def charge_rest(self):\n",
    "        print(f'{self.name}의 전기 충전을 성공했피카츄.')\n",
    "        return self.set_hp(self.level)   "
   ]
  },
  {
   "cell_type": "code",
   "execution_count": 19,
   "metadata": {},
   "outputs": [],
   "source": [
    "class Weepinbell(Pokemon):\n",
    "    type = ('plant')\n",
    "    def tighten_attack(self, enemy):\n",
    "        print(f'{self.name}이(가) {enemy.name}(에)게 조임 공격을 보냈우츠동.')\n",
    "        return enemy.set_hp(-0.5 * self.level)\n",
    "    \n",
    "    def eat_rest(self):\n",
    "        print(f'{self.name}의 영양분 섭취를 성공했우츠동.')"
   ]
  },
  {
   "cell_type": "code",
   "execution_count": 21,
   "metadata": {},
   "outputs": [
    {
     "name": "stdout",
     "output_type": "stream",
     "text": [
      "피카츄의 이름을 설정해주츄: 1\n",
      "우츠동의 이름을 설정해동: 2\n",
      "\n",
      "\n",
      "=========1 VS 2 START==========\n",
      "\n",
      "\n",
      "++++++STAGE0++++++\n",
      "\n",
      "2이(가) 1(에)게 박치기 공격!!!!!!!!!!!!!!!!!!.\n",
      "1은(는) 1차 공격에 실패...ㅠㅜ.\n",
      "\n",
      "2이(가) 1(에)게 조임 공격을 보냈우츠동.\n",
      "1은(는) 2차 공격에 실패...ㅜㅜ.\n",
      "\n",
      "1은 hp 충전에 실패...ㅠㅜ\n",
      "\n",
      "2의 영양분 섭취를 성공했우츠동.\n",
      "stage0의 결과, 1의 hp는 73.0, 2의 hp는 90입니다.\n",
      "\n",
      "\n",
      "\n",
      "++++++STAGE1++++++\n",
      "\n",
      "2이(가) 1(에)게 박치기 공격!!!!!!!!!!!!!!!!!!.\n",
      "1은(는) 1차 공격에 실패...ㅠㅜ.\n",
      "\n",
      "1이(가) 2(에)게 전기 충격을 보냈피카츄.\n",
      "2은(는) 2차 공격에 실패....ㅠㅜ.\n",
      "\n",
      "1의 전기 충전을 성공했피카츄.\n",
      "2의 영양분 섭취를 성공했우츠동.\n",
      "stage1의 결과, 1의 hp는 60.5, 2의 hp는 70입니다.\n",
      "\n",
      "\n",
      "\n",
      "++++++STAGE2++++++\n",
      "\n",
      "1이(가) 2(에)게 박치기 공격!!!!!!!!!!!!!!!!!!.\n",
      "2은(는) 1차 공격에 실패...ㅠㅜ.\n",
      "\n",
      "1이(가) 2(에)게 전기 충격을 보냈피카츄.\n",
      "2은(는) 2차 공격에 실패....ㅠㅜ.\n",
      "\n",
      "1의 전기 충전을 성공했피카츄.\n",
      "2은 hp 충전에 실패...ㅠㅜ\n",
      "\n",
      "stage2의 결과, 1의 hp는 70.5, 2의 hp는 25.0입니다.\n",
      "\n",
      "\n",
      "\n",
      "++++++STAGE3++++++\n",
      "\n",
      "1이(가) 2(에)게 박치기 공격!!!!!!!!!!!!!!!!!!.\n",
      "2은(는) 1차 공격에 실패...ㅠㅜ.\n",
      "\n",
      "1이(가) 2(에)게 전기 충격을 보냈피카츄.\n",
      "2은(는) 2차 공격에 실패....ㅠㅜ.\n",
      "\n",
      "1은 hp 충전에 실패...ㅠㅜ\n",
      "\n",
      "2은 hp 충전에 실패...ㅠㅜ\n",
      "\n",
      "stage3의 결과, 1의 hp는 70.5, 2의 hp는 -20.0입니다.\n",
      "\n",
      "1이(가) 이겼습니다!!\n"
     ]
    }
   ],
   "source": [
    "user1_name = input('피카츄의 이름을 설정해주츄: ')\n",
    "user2_name = input('우츠동의 이름을 설정해동: ')\n",
    "\n",
    "user1 = Pikachu(user1_name, 10)\n",
    "user2 = Weepinbell(user2_name, 9)\n",
    "count = 0\n",
    "\n",
    "print(f'\\n\\n========={user1.name} VS {user2.name} START==========')\n",
    "\n",
    "while user1.check_status() and user2.check_status():\n",
    "    print(f'\\n\\n++++++STAGE{count}++++++\\n')\n",
    "    \n",
    "    # 기본 공격인 body_attack 성공 여부\n",
    "    print('----1차 공격----')\n",
    "    attack = random.randrange(0, 2)\n",
    "    if attack:\n",
    "        user1.body_attack(user2)\n",
    "        print(f'{user2.name}은(는) 1차 공격에 실패...ㅠㅜ.')\n",
    "    else:\n",
    "        user2.body_attack(user1)\n",
    "        print(f'{user1.name}은(는) 1차 공격에 실패...ㅠㅜ.\\n')\n",
    "    +\n",
    "    # 각 pokemon의 특정 공격 여부\n",
    "    print('----2차 공격----')\n",
    "    attack = random.randrange(0, 2)\n",
    "    if attack:\n",
    "        user1.volt_attack(user2)\n",
    "        print(f'{user2.name}은(는) 2차 공격에 실패....ㅠㅜ.\\n')\n",
    "    else:\n",
    "        user2.tighten_attack(user1)\n",
    "        print(f'{user1.name}은(는) 2차 공격에 실패...ㅜㅜ.\\n')\n",
    "    \n",
    "    # 각 pokemon별로 hp 회복하기 \n",
    "    rest1, rest2 = random.randrange(0, 2), random.randrange(0, 2)\n",
    "    \n",
    "    if rest1:\n",
    "        user1.charge_rest()\n",
    "    else:\n",
    "        print(f'{user1.name}은 hp 충전에 실패...ㅠㅜ\\n')\n",
    "    \n",
    "    if rest2:\n",
    "        user2.eat_rest()\n",
    "    else:\n",
    "        print(f'{user2.name}은 hp 충전에 실패...ㅠㅜ\\n')\n",
    "     \n",
    "    print(f'stage{count}의 결과, {user1.name}의 hp는 {user1.hp}, {user2.name}의 hp는 {user2.hp}입니다.\\n')\n",
    "    count += 1\n",
    "\n",
    "if user1.check_status():\n",
    "    print(f'{user1.name}이(가) 이겼습니다!!')\n",
    "else:\n",
    "    print(f'{user2.name}이(가) 이겼습니다!!')"
   ]
  },
  {
   "cell_type": "code",
   "execution_count": null,
   "metadata": {},
   "outputs": [],
   "source": []
  }
 ],
 "metadata": {
  "kernelspec": {
   "display_name": "Python 3",
   "language": "python",
   "name": "python3"
  },
  "language_info": {
   "codemirror_mode": {
    "name": "ipython",
    "version": 3
   },
   "file_extension": ".py",
   "mimetype": "text/x-python",
   "name": "python",
   "nbconvert_exporter": "python",
   "pygments_lexer": "ipython3",
   "version": "3.6.7"
  },
  "latex_envs": {
   "LaTeX_envs_menu_present": true,
   "autoclose": false,
   "autocomplete": true,
   "bibliofile": "biblio.bib",
   "cite_by": "apalike",
   "current_citInitial": 1,
   "eqLabelWithNumbers": true,
   "eqNumInitial": 1,
   "hotkeys": {
    "equation": "Ctrl-E",
    "itemize": "Ctrl-I"
   },
   "labels_anchors": false,
   "latex_user_defs": false,
   "report_style_numbering": false,
   "user_envs_cfg": false
  },
  "toc": {
   "base_numbering": 1,
   "nav_menu": {},
   "number_sections": true,
   "sideBar": true,
   "skip_h1_title": false,
   "title_cell": "Table of Contents",
   "title_sidebar": "Contents",
   "toc_cell": false,
   "toc_position": {},
   "toc_section_display": true,
   "toc_window_display": false
  }
 },
 "nbformat": 4,
 "nbformat_minor": 2
}
