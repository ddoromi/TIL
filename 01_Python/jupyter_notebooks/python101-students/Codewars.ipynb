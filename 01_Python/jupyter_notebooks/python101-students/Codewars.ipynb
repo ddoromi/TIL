{
 "cells": [
  {
   "cell_type": "code",
   "execution_count": 12,
   "metadata": {},
   "outputs": [
    {
     "name": "stdout",
     "output_type": "stream",
     "text": [
      "2.0\n",
      "4\n"
     ]
    }
   ],
   "source": [
    "import sys\n",
    "\n",
    "def is_square(n):\n",
    "    if n >= 0 and (abs((n**0.5)-int(n**0.5)) == 0):\n",
    "        return True\n",
    "    else:\n",
    "        return False # fix me\n",
    "\n",
    "print(4 ** 0.5)\n",
    "print(int(4.56577))\n",
    "\n",
    "def is_square(n):    \n",
    "    return n >= 0 and (n**0.5) % 1 == 0 # 정수일 때는 1로 나누었을 때 나머지가 0"
   ]
  },
  {
   "cell_type": "code",
   "execution_count": 14,
   "metadata": {},
   "outputs": [],
   "source": [
    "def openOrSenior(data):\n",
    "    # Hmmm.. Where to start?\n",
    "    result = []\n",
    "    for member in data:\n",
    "        if member[0] >= 55 and member[1] > 7:\n",
    "            result += ['Senior']\n",
    "        else:\n",
    "            result += ['Open']\n",
    "    return result\n",
    "\n",
    "#return [\"Senior\" if m[0]>54 and m[1]>7 else \"Open\" for m in members]"
   ]
  },
  {
   "cell_type": "code",
   "execution_count": 19,
   "metadata": {},
   "outputs": [],
   "source": [
    "def persistence(n):\n",
    "    # your code\n",
    "    count = 0\n",
    "    while len(str(n)) > 1:\n",
    "        n2 = 1        \n",
    "        for i in (str(n)):\n",
    "            n2 *= int(i)\n",
    "        n = n2\n",
    "        count += 1\n",
    "    \n",
    "    return count"
   ]
  },
  {
   "cell_type": "code",
   "execution_count": 27,
   "metadata": {},
   "outputs": [
    {
     "name": "stdout",
     "output_type": "stream",
     "text": [
      "a\n",
      "A-\n",
      "v\n",
      "A-Vv-\n",
      "f\n",
      "A-Vv-Fff-\n",
      "v\n",
      "A-Vv-Fff-Vv-\n",
      "d\n",
      "A-Vv-Fff-Vv-Ddddd-\n",
      "f\n",
      "A-Vv-Fff-Vv-Ddddd-Fff-\n"
     ]
    },
    {
     "data": {
      "text/plain": [
       "'A-Vv-Fff-Vv-Ddddd-Fff-'"
      ]
     },
     "execution_count": 27,
     "metadata": {},
     "output_type": "execute_result"
    }
   ],
   "source": [
    "def accum(s):\n",
    "    # your code\n",
    "    result = ''\n",
    "    for i in range(len(s)):\n",
    "        result += s[i].upper() + (s[i].lower() * i) + '-'\n",
    "    return result[0:-1]"
   ]
  },
  {
   "cell_type": "code",
   "execution_count": 29,
   "metadata": {},
   "outputs": [
    {
     "data": {
      "text/plain": [
       "'A-Bb-Ccc'"
      ]
     },
     "execution_count": 29,
     "metadata": {},
     "output_type": "execute_result"
    }
   ],
   "source": [
    "def accum(s):\n",
    "    return '-'.join(c.upper() + c.lower() * i for i, c in enumerate(s))\n",
    "accum('abc')"
   ]
  }
 ],
 "metadata": {
  "kernelspec": {
   "display_name": "Python 3",
   "language": "python",
   "name": "python3"
  },
  "language_info": {
   "codemirror_mode": {
    "name": "ipython",
    "version": 3
   },
   "file_extension": ".py",
   "mimetype": "text/x-python",
   "name": "python",
   "nbconvert_exporter": "python",
   "pygments_lexer": "ipython3",
   "version": "3.6.7"
  }
 },
 "nbformat": 4,
 "nbformat_minor": 2
}
