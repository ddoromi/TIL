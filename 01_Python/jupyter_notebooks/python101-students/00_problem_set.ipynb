{
 "cells": [
  {
   "cell_type": "markdown",
   "metadata": {},
   "source": [
    "# Problem Set"
   ]
  },
  {
   "cell_type": "markdown",
   "metadata": {},
   "source": [
    "### 19. 01. 08"
   ]
  },
  {
   "cell_type": "markdown",
   "metadata": {},
   "source": [
    "## 1. 이상한 덧셈\n",
    "> 숫자로 구성된 리스트에서 양의 정수의 합을 구하는 함수, `positive_sum`을 만들어 보아요\n",
    "\n",
    "예시)\n",
    "```python\n",
    "positive_sum([-1, -10, 2]) #3\n",
    "positive_sum([-1, -2, -3, -4]) #0\n",
    "```"
   ]
  },
  {
   "cell_type": "code",
   "execution_count": null,
   "metadata": {},
   "outputs": [],
   "source": [
    "def positive_sum(li=[]):\n",
    "    result = 0\n",
    "    for num in li:\n",
    "        if num > 0:\n",
    "            result += num\n",
    "    return result\n",
    "\n",
    "positive_sum([-1, -10, 2])\n",
    "positive_sum([-1, -2, -3, -4])"
   ]
  },
  {
   "cell_type": "code",
   "execution_count": null,
   "metadata": {},
   "outputs": [],
   "source": [
    "def pos_sum(numbers):\n",
    "    return sum(x for x in numbers if x > 0)\n",
    "\n",
    "pos_sum([-1, -10, 2])\n",
    "pos_sum([-1, -2, -3, -4])"
   ]
  },
  {
   "cell_type": "markdown",
   "metadata": {},
   "source": [
    "### 2. 문자열 탐색\n",
    "> 문자열 요소로만 이루어진 리스트를 넣었을 때, 문자열의 길이가 2 이상이고, 주어진 문자열의 첫 번째와 마지막 문자가 같은 문자열의 수를 세는 함수 `start_end`를 작성하세요\n",
    "\n",
    "예시) \n",
    "```python\n",
    "start_end(['level', 'asdwe', 's', 'abadsfa', 'q1q']) #3\n",
    "```"
   ]
  },
  {
   "cell_type": "code",
   "execution_count": null,
   "metadata": {},
   "outputs": [],
   "source": [
    "def start_end(li=[]):\n",
    "    count = 0\n",
    "    for string in li:\n",
    "        if len(string) >= 2:\n",
    "            if string[0] == string[len(string)-1]:\n",
    "                count += 1\n",
    "    return count \n",
    "\n",
    "start_end(['level', 'asdwe', 'ss', 'abadsfa', 'q1q'])"
   ]
  },
  {
   "cell_type": "code",
   "execution_count": null,
   "metadata": {},
   "outputs": [],
   "source": [
    "def start_end(words):\n",
    "    count = 0\n",
    "    for word in words:\n",
    "        if len(word) > 1  and word[0] == word[-1]:\n",
    "            count += 1\n",
    "    return count"
   ]
  },
  {
   "cell_type": "markdown",
   "metadata": {},
   "source": [
    "### 3. Collatz\n",
    "> Collatz 추측: 어떤 자연수 n 이던지, 다음과 같은 작업을 반복하면 1로 만들 수 있다.\n",
    "\n",
    "1. n이 짝수라면 2로 나눈다.\n",
    "2. n이 홀수라면 3을 곱하고 1을 더한다.\n",
    "3. 결과로 나온 수에 1/2의 작업을 1이 될 때까지 반복한다.\n",
    "\n",
    "> 예를 들어 n이 6이면, 6 => 3 => 10 => 5 => 16 => 8 => 4 => 2 => 1 이 되며 8번(=> 갯수)만에 1이 된다. 자연수 n이 들어왔을 때, 몇 번의 작업만에 1이 되는 지를 `return`하는 함수 `collatz()`를 완성하세요\n",
    "\n",
    "> 단! 500번을 넘어가도 1이 되지 않는다면 -1을 `return` 하세요"
   ]
  },
  {
   "cell_type": "code",
   "execution_count": null,
   "metadata": {},
   "outputs": [],
   "source": [
    "def collatz(n, count=0):\n",
    "    if n == 1:\n",
    "        return count\n",
    "    else:\n",
    "        n = n * 3 + 1 if n % 2 == 1 else n / 2\n",
    "        count += 1   \n",
    "        if count > 500:\n",
    "            return -1\n",
    "    return collatz(n, count)\n",
    "            \n",
    "print(collatz(6)) #8\n",
    "print(collatz(16)) #4\n",
    "print(collatz(626331)) #-1    "
   ]
  },
  {
   "cell_type": "code",
   "execution_count": null,
   "metadata": {},
   "outputs": [],
   "source": [
    "def collatz2(num):\n",
    "    for i in range(500):\n",
    "        num = num * 3 + 1 if num % 2 else num / 2\n",
    "        \n",
    "        if num == 1:\n",
    "            return i + 1\n",
    "    return -1"
   ]
  },
  {
   "cell_type": "markdown",
   "metadata": {},
   "source": [
    "### 4. 솔로 천국\n",
    "> 리스트가 주어질 대, 리스트의 요소 `e`는 `range(0, 10)`에 포함되는 자연수이다. 리스트에서 연속적으로 나타나는 숫자는 하나만 남기고 전부 제거하여 `return`하는 함수 `lonely()`를 작성해 보시오. 이때 제거된 후 남은 수들을 반환할 때는 리스트의 요소들이 순서를 유지해야 합니다.\n",
    "\n",
    "예시)\n",
    "```python\n",
    "lonely([1, 1, 3, 3, 0, 1, 1, 3, 0, 3]) #[1, 3, 0]\n",
    "lonely([4, 4, 3, 3, 3, 4]) #[4, 3]\n",
    "```"
   ]
  },
  {
   "cell_type": "code",
   "execution_count": null,
   "metadata": {},
   "outputs": [],
   "source": [
    "def lonely(li=[]):\n",
    "    result = []\n",
    "    for num in range(1, len(li)+1):\n",
    "        if num == len(li):\n",
    "            if li[num-2] != li[num-1]:\n",
    "                if li[num-1] not in result:\n",
    "                    result.append(li[num-1])\n",
    "                break\n",
    "                \n",
    "        if li[num-1] != li[num]:\n",
    "            if li[num-1] not in result:\n",
    "                result.append(li[num-1])\n",
    "        \n",
    "    return result\n",
    "\n",
    "print(lonely([1, 1, 3, 3, 0, 1, 1, 3, 0, 3]))\n",
    "print(lonely([4, 4, 3, 3, 3, 4]))\n",
    "print(lonely([1, 2, 2, 4, 5, 6, 1, 2, 9, 8, 7, 8]))\n",
    "    "
   ]
  },
  {
   "cell_type": "code",
   "execution_count": null,
   "metadata": {},
   "outputs": [],
   "source": [
    "def lonely2(li):\n",
    "    result = []\n",
    "    for num in li:\n",
    "        if num not in result:\n",
    "            result.append(num)\n",
    "    \n",
    "    return result\n",
    "\n",
    "print(lonely2([1, 1, 3, 3, 0, 1, 1, 3, 0, 3]))\n",
    "print(lonely2([4, 4, 3, 3, 3, 4]))\n",
    "print(lonely2([1, 2, 2, 4, 5, 6, 1, 2, 9, 8, 7, 8]))"
   ]
  },
  {
   "cell_type": "code",
   "execution_count": null,
   "metadata": {},
   "outputs": [],
   "source": [
    "def lonely3(numbers):\n",
    "    result = []\n",
    "    for number in numbers:\n",
    "        if not result:\n",
    "            result.append(number)\n",
    "        elif result[-1] != number and result.count(number) == 0:\n",
    "            result.append(number)\n",
    "    return result\n",
    "            \n",
    "print(lonely3([1, 1, 3, 3, 0, 1, 1, 3, 0, 3]))\n",
    "print(lonely3([4, 4, 3, 3, 3, 4]))\n",
    "print(lonely3([1, 2, 2, 4, 5, 6, 1, 2, 9, 8, 7, 8]))"
   ]
  },
  {
   "cell_type": "markdown",
   "metadata": {},
   "source": [
    "### 5. RGB 삼각형\n",
    "| BG | RG | BR | RR | GG | BB |\n",
    "|----|----|----|----|----|----|\n",
    "| R  | B  | G  | R  | G  | B  |\n",
    "\n",
    "> 입력으로 `'R', 'G', 'B'` 가 섞여있는 문자열이 들어온다. 문자열은 다음과 같이 합쳐진다. 해당 문자열을 처리하여 마지막 색깔만 `return`하는 `triangle()` 을 작성하세요.\n",
    "```\n",
    "R R G B R G B B\n",
    " R B R G B R B\n",
    "  G G B R G G\n",
    "   G R G B G\n",
    "    B B R R\n",
    "     B G R\n",
    "      R B\n",
    "       G\n",
    "```\n",
    "예시)\n",
    "```python\n",
    "triangle('RRGBRGBB') # G\n",
    "triangle('GB') # R\n",
    "triangle('B') # B\n",
    "triangle('RGBG') # B\n",
    "```"
   ]
  },
  {
   "cell_type": "code",
   "execution_count": null,
   "metadata": {},
   "outputs": [],
   "source": [
    "def triangle(li='', result=''):\n",
    "    if len(li) == 1:\n",
    "        return li\n",
    "    else:\n",
    "        for rgb in range(1, len(li)+1):\n",
    "            if rgb == len(li):\n",
    "                break\n",
    "            if str(li[rgb-1]+li[rgb]) in ['BG', 'GB', 'RR']:\n",
    "                result += 'R'\n",
    "            elif str(li[rgb-1]+li[rgb]) in ['RG', 'GR', 'BB']:\n",
    "                result += 'B'\n",
    "            else:\n",
    "                result += 'G'\n",
    "        \n",
    "        li = result        \n",
    "        return triangle(li)\n",
    "\n",
    "print(triangle('RRGBRGBB')) # G\n",
    "print(triangle('GB')) # R\n",
    "print(triangle('B')) # B\n",
    "print(triangle('RGBG')) # B"
   ]
  },
  {
   "cell_type": "markdown",
   "metadata": {},
   "source": [
    "### 6.(???) 홀수개를  찾아라\n",
    "> 입력으로 list가 하나 들어옵니다. 이 list에는 1개의 숫자만 홀수개 들어있습니다. 이 1개의 홀수개인 숫자를 return하는 find_odd()를 작성하세요.\n",
    "\n",
    "예시) \n",
    "```python\n",
    "find_odd([1, 1, 2, 2, 3, 3, 3]) #3\n",
    "find_odd([2, 1, 2]) #1\n",
    "find_odd([1, 2, 2, 3, 2, 2, 1])#3\n",
    "```\n"
   ]
  },
  {
   "cell_type": "code",
   "execution_count": null,
   "metadata": {},
   "outputs": [],
   "source": [
    "def find_odd(li):\n",
    "    for i in range(len(li)):\n",
    "        count = 0\n",
    "        for num in li:\n",
    "            if num == li[i]:\n",
    "                count += 1\n",
    "        if count % 2 == 1:\n",
    "            return li[i]\n",
    "\n",
    "print(find_odd([1, 1, 2, 2, 3, 3, 3, 3, 8])) #3\n",
    "print(find_odd([2, 1, 2])) #1\n",
    "print(find_odd([1, 2, 2, 3, 2, 2, 1]))#3\n",
    "print(find_odd([1, 2, 1]))"
   ]
  },
  {
   "cell_type": "code",
   "execution_count": null,
   "metadata": {},
   "outputs": [],
   "source": [
    "from operator import xor\n",
    "\n",
    "def find_odd2(numbers):\n",
    "    for uniq in list(set(numbers)):  # set으로 바꿔서 중복 제거 한 다음, 다시 list로 만들어줌.\n",
    "        if numbers.count(uniq) % 2:\n",
    "            return uniq\n",
    "        \n",
    "print(find_odd2([1, 1, 2, 2, 3, 3, 3, 3, 8])) #3\n",
    "print(find_odd2([2, 1, 2])) #1\n",
    "print(find_odd2([1, 2, 2, 3, 2, 2, 1]))#3\n",
    "print(find_odd2([1, 2, 1]))\n",
    "\n",
    "\n",
    "def find_odd3(numbers): # xor 연산\n",
    "    result = 0\n",
    "    for n in numbers:\n",
    "        result = result ^ n\n",
    "    return result\n",
    "\n",
    "print(find_odd3([1, 1, 2, 2, 3, 3, 3, 3, 8])) #3\n",
    "print(find_odd3([2, 1, 2])) #1\n",
    "print(find_odd3([1, 2, 2, 3, 2, 2, 1]))#3\n",
    "print(find_odd3([1, 2, 1]))"
   ]
  },
  {
   "cell_type": "markdown",
   "metadata": {},
   "source": [
    "**19. 01. 09**"
   ]
  },
  {
   "cell_type": "markdown",
   "metadata": {},
   "source": [
    "### 1. Up and Down\n",
    "> 우리가 `range(1, 101)`중 하나를 입력한다. 컴퓨터가 절반에 위치한 숫자를 물어보고, 그 숫자가 맞으면 생각한 수보다 크면 1, 작으면 -1, 맞으면 0을 입력한다. 이때 몇 번만에 컴퓨터가 맞췄는지 출력하고 프로그램을 끝낸다. \n",
    "\n",
    "예시) \n",
    "```sh\n",
    "숫자를 생각하세요..\n",
    "50\n",
    "> -1\n",
    "25\n",
    "> -1\n",
    "13\n",
    "> -1\n",
    "7\n",
    "> 1\n",
    "12\n",
    "> 0\n",
    "6 번만에 맞췄습니다!\n",
    "```\n",
    "\n",
    "```python \n",
    "def guess_up_and_down():\n",
    "    print('숫자를 생각하세요...')\n",
    "    n = 100 // 2\n",
    "    print(n)\n",
    "    count += 0\n",
    "    user_feedback = input('작으면 -1, 맞으면 0, 크면 1')\n",
    "    ...\n",
    "    print(count, '번 만에 맞춤!')\n",
    "```\n",
    "    "
   ]
  },
  {
   "cell_type": "code",
   "execution_count": null,
   "metadata": {},
   "outputs": [],
   "source": [
    "def guess_up_and_down():\n",
    "    count = 0\n",
    "    n = 100\n",
    "    n2 = 0\n",
    "    n3 = n // 2\n",
    "    print('숫자를 생각하세요.')\n",
    "\n",
    "    while True:\n",
    "        print(n3)\n",
    "        count += 1\n",
    "        user_feedback = int(input('작으면 -1, 맞으면 0, 크면 1: '))  \n",
    "        if user_feedback == 0:\n",
    "            return count\n",
    "            break\n",
    "        \n",
    "        elif user_feedback == 1:\n",
    "            n2 = n3\n",
    "            n3 = (n + n2) // 2\n",
    "   \n",
    "        else:\n",
    "            n = n3\n",
    "            n3 = (n + n2)// 2\n",
    "\n",
    "print(f'{guess_up_and_down()}번 만에 맞췄습니다.')"
   ]
  },
  {
   "cell_type": "code",
   "execution_count": null,
   "metadata": {},
   "outputs": [],
   "source": [
    "# 재귀로 풀기\n",
    "def guess_up_and_down2(n3=50, n2=0, n=100, count=0):\n",
    "    print(n3)\n",
    "    count += 1\n",
    "    user_feedback = int(input('작으면 -1, 맞으면 0, 크면 1: '))\n",
    "    \n",
    "    if user_feedback == 0:\n",
    "        return count\n",
    "    else:\n",
    "        if user_feedback == 1:\n",
    "            n2 = n3\n",
    "            n3 = (n + n2) // 2\n",
    "   \n",
    "        else:\n",
    "            n = n3\n",
    "            n3 = (n + n2)// 2\n",
    "            \n",
    "        return guess_up_and_down2(n3, n2, n, count)\n",
    "        \n",
    "print(f'{guess_up_and_down2()}번 만에 맞췄습니다.')\n",
    "    "
   ]
  },
  {
   "cell_type": "markdown",
   "metadata": {},
   "source": [
    "**19. 01. 10**"
   ]
  },
  {
   "cell_type": "markdown",
   "metadata": {},
   "source": [
    "### 1. Hangman\n",
    "> 필요한 함수들"
   ]
  },
  {
   "cell_type": "code",
   "execution_count": null,
   "metadata": {},
   "outputs": [],
   "source": [
    "def is_answer(answer, letters):\n",
    "    for letter in letters:\n",
    "        if letter in set(answer):\n",
    "            continue\n",
    "        else:\n",
    "            return False\n",
    "        return True\n",
    "    \n",
    "print(is_answer('apple', ['a', 'p', 'l'])) # False "
   ]
  },
  {
   "cell_type": "code",
   "execution_count": null,
   "metadata": {},
   "outputs": [],
   "source": [
    "def status(answer, letters):\n",
    "    for char in answer:\n",
    "        if char not in letters:\n",
    "            answer = answer.replace(char, ' _')\n",
    "    return answer"
   ]
  },
  {
   "cell_type": "markdown",
   "metadata": {},
   "source": [
    "### Hangman 로직 만들기\n",
    "> 위의 코드를 활용하여 `hangman(answer)`를 만들자. 사용자가 답을 맞추거나, 시도가 8번을 넘어가면 종료!"
   ]
  },
  {
   "cell_type": "code",
   "execution_count": null,
   "metadata": {},
   "outputs": [],
   "source": [
    "def hangman(answer):\n",
    "    input_letters = []\n",
    "    attempt = 8\n",
    "    print('=====START=====')\n",
    "    while 1:\n",
    "        print('남은 목숨: ' + '★' * attempt)\n",
    "        print(status(answer, input_letters))\n",
    "        \n",
    "        guess = input('알파벳을 입력하세요: ').lower()\n",
    "        input_letter.append(guess)\n",
    "        \n",
    "        if is_answer(answer, input_letters):\n",
    "            return '성공!'\n",
    "        else:\n",
    "            attempt -= 1\n",
    "        \n",
    "        if not attempt:\n",
    "            return '실패'\n",
    "        \n",
    "hangman('apple')"
   ]
  },
  {
   "cell_type": "code",
   "execution_count": 8,
   "metadata": {},
   "outputs": [
    {
     "name": "stdout",
     "output_type": "stream",
     "text": [
      "★★★★Hangman 시작★★★★\n",
      "알파벳을 맞춰보세여ㅇㅂㅇ(♥♥♥♥♥♥♥♥): ㅎ\n",
      "_ _ \n",
      "\n",
      "알파벳을 맞춰보세여ㅇㅂㅇ(♥♥♥♥♥♥♥): ㅎ\n",
      "_ _ \n",
      "\n",
      "알파벳을 맞춰보세여ㅇㅂㅇ(♥♥♥♥♥♥): ㅎ\n",
      "_ _ \n",
      "\n",
      "알파벳을 맞춰보세여ㅇㅂㅇ(♥♥♥♥♥): ㅎ\n",
      "_ _ \n",
      "\n",
      "알파벳을 맞춰보세여ㅇㅂㅇ(♥♥♥♥): ㅎ\n",
      "_ _ \n",
      "\n",
      "알파벳을 맞춰보세여ㅇㅂㅇ(♥♥♥): ㅎ\n",
      "_ _ \n",
      "\n",
      "알파벳을 맞춰보세여ㅇㅂㅇ(♥♥): ㅎ\n",
      "_ _ \n",
      "\n",
      "알파벳을 맞춰보세여ㅇㅂㅇ(♥): ㅎ\n",
      "_ _ \n",
      "\n"
     ]
    },
    {
     "data": {
      "text/plain": [
       "'사람이 죽었어요..ㅜ_ㅠ'"
      ]
     },
     "execution_count": 8,
     "metadata": {},
     "output_type": "execute_result"
    }
   ],
   "source": [
    "def my_hangman(answer):\n",
    "    count = 8\n",
    "    reply = list('_ ' * len(answer))\n",
    "    answer_li = list(answer)\n",
    "    print('★★★★Hangman 시작★★★★')\n",
    "    \n",
    "    while 1:\n",
    "        letter = input(f'알파벳을 맞춰보세여ㅇㅂㅇ(' + '♥' * count + '): ')\n",
    "        T = True\n",
    "        \n",
    "        for i in range(len(answer_li)):\n",
    "            if letter == answer_li[i]:\n",
    "                reply[i*2] = letter\n",
    "                T = False\n",
    "            \n",
    "        print(''.join(reply) + '\\n')\n",
    "        \n",
    "        if (''.join(reply)).replace(' ', '') == answer:\n",
    "            return '정답입니다!!'    \n",
    "        if T:\n",
    "            count -= 1\n",
    "        if count == 0:\n",
    "            return '사람이 죽었어요..ㅜ_ㅠ'\n",
    "\n",
    "my_hangman('hi')"
   ]
  }
 ],
 "metadata": {
  "kernelspec": {
   "display_name": "Python 3",
   "language": "python",
   "name": "python3"
  },
  "language_info": {
   "codemirror_mode": {
    "name": "ipython",
    "version": 3
   },
   "file_extension": ".py",
   "mimetype": "text/x-python",
   "name": "python",
   "nbconvert_exporter": "python",
   "pygments_lexer": "ipython3",
   "version": "3.6.7"
  }
 },
 "nbformat": 4,
 "nbformat_minor": 2
}
