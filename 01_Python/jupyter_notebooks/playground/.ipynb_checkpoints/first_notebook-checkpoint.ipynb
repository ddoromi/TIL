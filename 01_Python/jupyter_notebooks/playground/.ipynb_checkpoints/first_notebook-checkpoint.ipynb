{
 "cells": [
  {
   "cell_type": "code",
   "execution_count": 12,
   "metadata": {},
   "outputs": [
    {
     "name": "stdout",
     "output_type": "stream",
     "text": [
      "9 45.0\n"
     ]
    }
   ],
   "source": [
    "num1 = 3\n",
    "num2 = 7\n",
    "\n",
    "if num1 < num2 :\n",
    "    temp = num1\n",
    "    num1 = num2\n",
    "    num2 = temp\n",
    "\n",
    "#최대공약수\n",
    "a = num1\n",
    "b = num2\n",
    "\n",
    "while b > 0 :\n",
    "    c = a % b\n",
    "    a = b\n",
    "    b = c\n",
    "\n",
    "gcd = a\n",
    "\n",
    "#최소공배수\n",
    "lcm = num1 * num2 / gcd\n",
    "\n",
    "print (gcd, lcm) "
   ]
  }
 ],
 "metadata": {
  "kernelspec": {
   "display_name": "Python 3",
   "language": "python",
   "name": "python3"
  },
  "language_info": {
   "codemirror_mode": {
    "name": "ipython",
    "version": 3
   },
   "file_extension": ".py",
   "mimetype": "text/x-python",
   "name": "python",
   "nbconvert_exporter": "python",
   "pygments_lexer": "ipython3",
   "version": "3.6.7"
  }
 },
 "nbformat": 4,
 "nbformat_minor": 2
}
