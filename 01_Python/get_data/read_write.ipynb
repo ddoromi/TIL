{
 "cells": [
  {
   "cell_type": "code",
   "execution_count": 1,
   "metadata": {},
   "outputs": [],
   "source": [
    "import csv"
   ]
  },
  {
   "cell_type": "code",
   "execution_count": 25,
   "metadata": {},
   "outputs": [],
   "source": [
    "f_w = open('ss3.csv', 'a+', encoding='utf-8', newline='') #w+는 덮어씀, a+는 추가\n",
    "\n",
    "writer = csv.writer(f_w)\n",
    "\n",
    "for i in range(7):\n",
    "    writer.writerow(\n",
    "        [i, i, i, i]\n",
    "    )\n",
    "\n",
    "f_w.close()"
   ]
  },
  {
   "cell_type": "code",
   "execution_count": 26,
   "metadata": {},
   "outputs": [
    {
     "name": "stdout",
     "output_type": "stream",
     "text": [
      "<class 'list'> ['0', '0', '0', '0']\n",
      "0\n",
      "0\n",
      "0\n",
      "0\n",
      "<class 'list'> ['1', '1', '1', '1']\n",
      "1\n",
      "1\n",
      "1\n",
      "1\n",
      "<class 'list'> ['2', '2', '2', '2']\n",
      "2\n",
      "2\n",
      "2\n",
      "2\n",
      "<class 'list'> ['3', '3', '3', '3']\n",
      "3\n",
      "3\n",
      "3\n",
      "3\n",
      "<class 'list'> ['4', '4', '4', '4']\n",
      "4\n",
      "4\n",
      "4\n",
      "4\n",
      "<class 'list'> ['5', '5', '5', '5']\n",
      "5\n",
      "5\n",
      "5\n",
      "5\n",
      "<class 'list'> ['6', '6', '6', '6']\n",
      "6\n",
      "6\n",
      "6\n",
      "6\n"
     ]
    }
   ],
   "source": [
    "f_r = open('ss3.csv', 'r', encoding='utf-8') #w+는 덮어씀, a+는 추가, r은 읽기만 하기\n",
    "\n",
    "reader = csv.reader(f_r)\n",
    "\n",
    "for line in reader:\n",
    "    print(type(line), line)\n",
    "    for e in line:\n",
    "        print(e)"
   ]
  }
 ],
 "metadata": {
  "kernelspec": {
   "display_name": "Python 3",
   "language": "python",
   "name": "python3"
  },
  "language_info": {
   "codemirror_mode": {
    "name": "ipython",
    "version": 3
   },
   "file_extension": ".py",
   "mimetype": "text/x-python",
   "name": "python",
   "nbconvert_exporter": "python",
   "pygments_lexer": "ipython3",
   "version": "3.6.7"
  }
 },
 "nbformat": 4,
 "nbformat_minor": 2
}
