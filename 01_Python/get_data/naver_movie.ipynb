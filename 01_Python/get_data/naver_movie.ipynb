{
 "cells": [
  {
   "cell_type": "code",
   "execution_count": 10,
   "metadata": {},
   "outputs": [],
   "source": [
    "import requests\n",
    "\n",
    "movies = ['말모이', '주먹왕 랄프', '보헤미안 랩소디']\n",
    "naver_URI = 'https://openapi.naver.com/v1/search/movie.json?query='\n",
    "\n",
    "client_id = 'e4rGuROqckKk7FCxM3YZ'\n",
    "client_secret = 'e9rKl2agCh'\n",
    "\n",
    "headers = { 'X-Naver-Client-Id': client_id, 'X-Naver-Client-Secret': client_secret }\n",
    "\n",
    "res = requests.get(naver_URI + movies[0], headers = headers)\n",
    "data = res.json()"
   ]
  },
  {
   "cell_type": "code",
   "execution_count": 14,
   "metadata": {},
   "outputs": [],
   "source": [
    "result = []\n",
    "for movie in movies:\n",
    "    data_set = requests.get(naver_URI + movie, headers=headers).json()\n",
    "    movie_info = {}\n",
    "    movie_info['title'] = data_set['items'][0]['title']\n",
    "    movie_info['link'] = data_set['items'][0]['link'] \n",
    "    movie_info['image'] = data_set['items'][0]['image']\n",
    "    result.append(movie_info)"
   ]
  },
  {
   "cell_type": "code",
   "execution_count": 17,
   "metadata": {},
   "outputs": [
    {
     "name": "stdout",
     "output_type": "stream",
     "text": [
      "{'lastBuildDate': 'Fri, 18 Jan 2019 10:29:02 +0900', 'total': 1, 'start': 1, 'display': 1, 'items': [{'title': '<b>보헤미안 랩소디</b>', 'link': 'https://movie.naver.com/movie/bi/mi/basic.nhn?code=156464', 'image': 'https://ssl.pstatic.net/imgmovie/mdi/mit110/1564/156464_P49_182103.jpg', 'subtitle': 'Bohemian Rhapsody', 'pubDate': '2018', 'director': '브라이언 싱어|', 'actor': '라미 말렉|조셉 마젤로|루시 보인턴|벤 하디|귈림 리|', 'userRating': '9.47'}]}\n"
     ]
    }
   ],
   "source": [
    "print(data_set)"
   ]
  }
 ],
 "metadata": {
  "kernelspec": {
   "display_name": "Python 3",
   "language": "python",
   "name": "python3"
  },
  "language_info": {
   "codemirror_mode": {
    "name": "ipython",
    "version": 3
   },
   "file_extension": ".py",
   "mimetype": "text/x-python",
   "name": "python",
   "nbconvert_exporter": "python",
   "pygments_lexer": "ipython3",
   "version": "3.6.7"
  }
 },
 "nbformat": 4,
 "nbformat_minor": 2
}
