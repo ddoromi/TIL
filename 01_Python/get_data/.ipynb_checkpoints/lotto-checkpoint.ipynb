{
 "cells": [
  {
   "cell_type": "code",
   "execution_count": 9,
   "metadata": {},
   "outputs": [],
   "source": [
    "import requests\n",
    "\n",
    "URL = 'https://www.dhlottery.co.kr/common.do?method=getLottoNumber&drwNo=837'\n",
    "\n",
    "got = requests.get(URL)\n",
    "\n",
    "data = got.json() # dic형으로 바꾸기"
   ]
  },
  {
   "cell_type": "code",
   "execution_count": 15,
   "metadata": {},
   "outputs": [
    {
     "name": "stdout",
     "output_type": "stream",
     "text": [
      "['2018-12-15', 837]\n"
     ]
    }
   ],
   "source": [
    "numbers = []\n",
    "for k, v in data.items():\n",
    "    if 'drwNo' in k:\n",
    "        numbers.append(v)\n",
    "#numbers.sort()\n",
    "\n",
    "print(numbers)"
   ]
  }
 ],
 "metadata": {
  "kernelspec": {
   "display_name": "Python 3",
   "language": "python",
   "name": "python3"
  },
  "language_info": {
   "codemirror_mode": {
    "name": "ipython",
    "version": 3
   },
   "file_extension": ".py",
   "mimetype": "text/x-python",
   "name": "python",
   "nbconvert_exporter": "python",
   "pygments_lexer": "ipython3",
   "version": "3.6.7"
  }
 },
 "nbformat": 4,
 "nbformat_minor": 2
}
