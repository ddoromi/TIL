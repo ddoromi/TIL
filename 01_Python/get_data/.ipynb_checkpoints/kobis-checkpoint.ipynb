{
 "cells": [
  {
   "cell_type": "code",
   "execution_count": 87,
   "metadata": {},
   "outputs": [],
   "source": [
    "key = '35770123d2dc19e6493c29c394b197ed'\n",
    "URL = f'http://www.kobis.or.kr/kobisopenapi/webservice/rest/boxoffice/searchWeeklyBoxOfficeList.json?key={key}&targetDt={targetDt}&weekGb=0'"
   ]
  },
  {
   "cell_type": "code",
   "execution_count": 94,
   "metadata": {},
   "outputs": [
    {
     "name": "stdout",
     "output_type": "stream",
     "text": [
      "20181111\n",
      "[{'movieCd': '20185485', 'movieNm': '보헤미안 랩소디', 'audiAcc': '4644453', 'targetDt': '20181111'}, {'movieCd': '20184481', 'movieNm': '성난황소', 'audiAcc': '921018', 'targetDt': '20181111'}, {'movieCd': '20176814', 'movieNm': '신비한 동물들과 그린델왈드의 범죄', 'audiAcc': '2165744', 'targetDt': '20181111'}, {'movieCd': '20177538', 'movieNm': '완벽한 타인', 'audiAcc': '4890354', 'targetDt': '20181111'}, {'movieCd': '20183050', 'movieNm': '번 더 스테이지: 더 무비', 'audiAcc': '298402', 'targetDt': '20181111'}, {'movieCd': '20183073', 'movieNm': '베일리 어게인', 'audiAcc': '45254', 'targetDt': '20181111'}, {'movieCd': '20181171', 'movieNm': '바울', 'audiAcc': '201760', 'targetDt': '20181111'}, {'movieCd': '20182935', 'movieNm': '출국', 'audiAcc': '71407', 'targetDt': '20181111'}, {'movieCd': '20182669', 'movieNm': '툴리', 'audiAcc': '24325', 'targetDt': '20181111'}, {'movieCd': '20186822', 'movieNm': '너의 췌장을 먹고 싶어', 'audiAcc': '48910', 'targetDt': '20181111'}]\n",
      "20181118\n",
      "[{'movieCd': '20185485', 'movieNm': '보헤미안 랩소디', 'audiAcc': '4644453', 'targetDt': '20181118'}, {'movieCd': '20184481', 'movieNm': '성난황소', 'audiAcc': '921018', 'targetDt': '20181118'}, {'movieCd': '20176814', 'movieNm': '신비한 동물들과 그린델왈드의 범죄', 'audiAcc': '2165744', 'targetDt': '20181118'}, {'movieCd': '20177538', 'movieNm': '완벽한 타인', 'audiAcc': '4890354', 'targetDt': '20181118'}, {'movieCd': '20183050', 'movieNm': '번 더 스테이지: 더 무비', 'audiAcc': '298402', 'targetDt': '20181118'}, {'movieCd': '20183073', 'movieNm': '베일리 어게인', 'audiAcc': '45254', 'targetDt': '20181118'}, {'movieCd': '20181171', 'movieNm': '바울', 'audiAcc': '201760', 'targetDt': '20181118'}, {'movieCd': '20182935', 'movieNm': '출국', 'audiAcc': '71407', 'targetDt': '20181118'}, {'movieCd': '20182669', 'movieNm': '툴리', 'audiAcc': '24325', 'targetDt': '20181118'}, {'movieCd': '20186822', 'movieNm': '너의 췌장을 먹고 싶어', 'audiAcc': '48910', 'targetDt': '20181118'}]\n",
      "20181125\n",
      "[{'movieCd': '20185485', 'movieNm': '보헤미안 랩소디', 'audiAcc': '4644453', 'targetDt': '20181125'}, {'movieCd': '20184481', 'movieNm': '성난황소', 'audiAcc': '921018', 'targetDt': '20181125'}, {'movieCd': '20176814', 'movieNm': '신비한 동물들과 그린델왈드의 범죄', 'audiAcc': '2165744', 'targetDt': '20181125'}, {'movieCd': '20177538', 'movieNm': '완벽한 타인', 'audiAcc': '4890354', 'targetDt': '20181125'}, {'movieCd': '20183050', 'movieNm': '번 더 스테이지: 더 무비', 'audiAcc': '298402', 'targetDt': '20181125'}, {'movieCd': '20183073', 'movieNm': '베일리 어게인', 'audiAcc': '45254', 'targetDt': '20181125'}, {'movieCd': '20181171', 'movieNm': '바울', 'audiAcc': '201760', 'targetDt': '20181125'}, {'movieCd': '20182935', 'movieNm': '출국', 'audiAcc': '71407', 'targetDt': '20181125'}, {'movieCd': '20182669', 'movieNm': '툴리', 'audiAcc': '24325', 'targetDt': '20181125'}, {'movieCd': '20186822', 'movieNm': '너의 췌장을 먹고 싶어', 'audiAcc': '48910', 'targetDt': '20181125'}]\n",
      "20181202\n",
      "[{'movieCd': '20185485', 'movieNm': '보헤미안 랩소디', 'audiAcc': '4644453', 'targetDt': '20181202'}, {'movieCd': '20184481', 'movieNm': '성난황소', 'audiAcc': '921018', 'targetDt': '20181202'}, {'movieCd': '20176814', 'movieNm': '신비한 동물들과 그린델왈드의 범죄', 'audiAcc': '2165744', 'targetDt': '20181202'}, {'movieCd': '20177538', 'movieNm': '완벽한 타인', 'audiAcc': '4890354', 'targetDt': '20181202'}, {'movieCd': '20183050', 'movieNm': '번 더 스테이지: 더 무비', 'audiAcc': '298402', 'targetDt': '20181202'}, {'movieCd': '20183073', 'movieNm': '베일리 어게인', 'audiAcc': '45254', 'targetDt': '20181202'}, {'movieCd': '20181171', 'movieNm': '바울', 'audiAcc': '201760', 'targetDt': '20181202'}, {'movieCd': '20182935', 'movieNm': '출국', 'audiAcc': '71407', 'targetDt': '20181202'}, {'movieCd': '20182669', 'movieNm': '툴리', 'audiAcc': '24325', 'targetDt': '20181202'}, {'movieCd': '20186822', 'movieNm': '너의 췌장을 먹고 싶어', 'audiAcc': '48910', 'targetDt': '20181202'}]\n",
      "20181209\n",
      "[{'movieCd': '20185485', 'movieNm': '보헤미안 랩소디', 'audiAcc': '4644453', 'targetDt': '20181209'}, {'movieCd': '20184481', 'movieNm': '성난황소', 'audiAcc': '921018', 'targetDt': '20181209'}, {'movieCd': '20176814', 'movieNm': '신비한 동물들과 그린델왈드의 범죄', 'audiAcc': '2165744', 'targetDt': '20181209'}, {'movieCd': '20177538', 'movieNm': '완벽한 타인', 'audiAcc': '4890354', 'targetDt': '20181209'}, {'movieCd': '20183050', 'movieNm': '번 더 스테이지: 더 무비', 'audiAcc': '298402', 'targetDt': '20181209'}, {'movieCd': '20183073', 'movieNm': '베일리 어게인', 'audiAcc': '45254', 'targetDt': '20181209'}, {'movieCd': '20181171', 'movieNm': '바울', 'audiAcc': '201760', 'targetDt': '20181209'}, {'movieCd': '20182935', 'movieNm': '출국', 'audiAcc': '71407', 'targetDt': '20181209'}, {'movieCd': '20182669', 'movieNm': '툴리', 'audiAcc': '24325', 'targetDt': '20181209'}, {'movieCd': '20186822', 'movieNm': '너의 췌장을 먹고 싶어', 'audiAcc': '48910', 'targetDt': '20181209'}]\n",
      "20181216\n",
      "[{'movieCd': '20185485', 'movieNm': '보헤미안 랩소디', 'audiAcc': '4644453', 'targetDt': '20181216'}, {'movieCd': '20184481', 'movieNm': '성난황소', 'audiAcc': '921018', 'targetDt': '20181216'}, {'movieCd': '20176814', 'movieNm': '신비한 동물들과 그린델왈드의 범죄', 'audiAcc': '2165744', 'targetDt': '20181216'}, {'movieCd': '20177538', 'movieNm': '완벽한 타인', 'audiAcc': '4890354', 'targetDt': '20181216'}, {'movieCd': '20183050', 'movieNm': '번 더 스테이지: 더 무비', 'audiAcc': '298402', 'targetDt': '20181216'}, {'movieCd': '20183073', 'movieNm': '베일리 어게인', 'audiAcc': '45254', 'targetDt': '20181216'}, {'movieCd': '20181171', 'movieNm': '바울', 'audiAcc': '201760', 'targetDt': '20181216'}, {'movieCd': '20182935', 'movieNm': '출국', 'audiAcc': '71407', 'targetDt': '20181216'}, {'movieCd': '20182669', 'movieNm': '툴리', 'audiAcc': '24325', 'targetDt': '20181216'}, {'movieCd': '20186822', 'movieNm': '너의 췌장을 먹고 싶어', 'audiAcc': '48910', 'targetDt': '20181216'}]\n",
      "20181223\n",
      "[{'movieCd': '20185485', 'movieNm': '보헤미안 랩소디', 'audiAcc': '4644453', 'targetDt': '20181223'}, {'movieCd': '20184481', 'movieNm': '성난황소', 'audiAcc': '921018', 'targetDt': '20181223'}, {'movieCd': '20176814', 'movieNm': '신비한 동물들과 그린델왈드의 범죄', 'audiAcc': '2165744', 'targetDt': '20181223'}, {'movieCd': '20177538', 'movieNm': '완벽한 타인', 'audiAcc': '4890354', 'targetDt': '20181223'}, {'movieCd': '20183050', 'movieNm': '번 더 스테이지: 더 무비', 'audiAcc': '298402', 'targetDt': '20181223'}, {'movieCd': '20183073', 'movieNm': '베일리 어게인', 'audiAcc': '45254', 'targetDt': '20181223'}, {'movieCd': '20181171', 'movieNm': '바울', 'audiAcc': '201760', 'targetDt': '20181223'}, {'movieCd': '20182935', 'movieNm': '출국', 'audiAcc': '71407', 'targetDt': '20181223'}, {'movieCd': '20182669', 'movieNm': '툴리', 'audiAcc': '24325', 'targetDt': '20181223'}, {'movieCd': '20186822', 'movieNm': '너의 췌장을 먹고 싶어', 'audiAcc': '48910', 'targetDt': '20181223'}]\n",
      "20181230\n",
      "[{'movieCd': '20185485', 'movieNm': '보헤미안 랩소디', 'audiAcc': '4644453', 'targetDt': '20181230'}, {'movieCd': '20184481', 'movieNm': '성난황소', 'audiAcc': '921018', 'targetDt': '20181230'}, {'movieCd': '20176814', 'movieNm': '신비한 동물들과 그린델왈드의 범죄', 'audiAcc': '2165744', 'targetDt': '20181230'}, {'movieCd': '20177538', 'movieNm': '완벽한 타인', 'audiAcc': '4890354', 'targetDt': '20181230'}, {'movieCd': '20183050', 'movieNm': '번 더 스테이지: 더 무비', 'audiAcc': '298402', 'targetDt': '20181230'}, {'movieCd': '20183073', 'movieNm': '베일리 어게인', 'audiAcc': '45254', 'targetDt': '20181230'}, {'movieCd': '20181171', 'movieNm': '바울', 'audiAcc': '201760', 'targetDt': '20181230'}, {'movieCd': '20182935', 'movieNm': '출국', 'audiAcc': '71407', 'targetDt': '20181230'}, {'movieCd': '20182669', 'movieNm': '툴리', 'audiAcc': '24325', 'targetDt': '20181230'}, {'movieCd': '20186822', 'movieNm': '너의 췌장을 먹고 싶어', 'audiAcc': '48910', 'targetDt': '20181230'}]\n",
      "20190106\n",
      "[{'movieCd': '20185485', 'movieNm': '보헤미안 랩소디', 'audiAcc': '4644453', 'targetDt': '20190106'}, {'movieCd': '20184481', 'movieNm': '성난황소', 'audiAcc': '921018', 'targetDt': '20190106'}, {'movieCd': '20176814', 'movieNm': '신비한 동물들과 그린델왈드의 범죄', 'audiAcc': '2165744', 'targetDt': '20190106'}, {'movieCd': '20177538', 'movieNm': '완벽한 타인', 'audiAcc': '4890354', 'targetDt': '20190106'}, {'movieCd': '20183050', 'movieNm': '번 더 스테이지: 더 무비', 'audiAcc': '298402', 'targetDt': '20190106'}, {'movieCd': '20183073', 'movieNm': '베일리 어게인', 'audiAcc': '45254', 'targetDt': '20190106'}, {'movieCd': '20181171', 'movieNm': '바울', 'audiAcc': '201760', 'targetDt': '20190106'}, {'movieCd': '20182935', 'movieNm': '출국', 'audiAcc': '71407', 'targetDt': '20190106'}, {'movieCd': '20182669', 'movieNm': '툴리', 'audiAcc': '24325', 'targetDt': '20190106'}, {'movieCd': '20186822', 'movieNm': '너의 췌장을 먹고 싶어', 'audiAcc': '48910', 'targetDt': '20190106'}]\n"
     ]
    },
    {
     "name": "stdout",
     "output_type": "stream",
     "text": [
      "20190113\n",
      "[{'movieCd': '20185485', 'movieNm': '보헤미안 랩소디', 'audiAcc': '4644453', 'targetDt': '20190113'}, {'movieCd': '20184481', 'movieNm': '성난황소', 'audiAcc': '921018', 'targetDt': '20190113'}, {'movieCd': '20176814', 'movieNm': '신비한 동물들과 그린델왈드의 범죄', 'audiAcc': '2165744', 'targetDt': '20190113'}, {'movieCd': '20177538', 'movieNm': '완벽한 타인', 'audiAcc': '4890354', 'targetDt': '20190113'}, {'movieCd': '20183050', 'movieNm': '번 더 스테이지: 더 무비', 'audiAcc': '298402', 'targetDt': '20190113'}, {'movieCd': '20183073', 'movieNm': '베일리 어게인', 'audiAcc': '45254', 'targetDt': '20190113'}, {'movieCd': '20181171', 'movieNm': '바울', 'audiAcc': '201760', 'targetDt': '20190113'}, {'movieCd': '20182935', 'movieNm': '출국', 'audiAcc': '71407', 'targetDt': '20190113'}, {'movieCd': '20182669', 'movieNm': '툴리', 'audiAcc': '24325', 'targetDt': '20190113'}, {'movieCd': '20186822', 'movieNm': '너의 췌장을 먹고 싶어', 'audiAcc': '48910', 'targetDt': '20190113'}]\n",
      "[{'movieCd': '20185485', 'movieNm': '보헤미안 랩소디', 'audiAcc': '4644453', 'targetDt': '20190113'}, {'movieCd': '20184481', 'movieNm': '성난황소', 'audiAcc': '921018', 'targetDt': '20190113'}, {'movieCd': '20176814', 'movieNm': '신비한 동물들과 그린델왈드의 범죄', 'audiAcc': '2165744', 'targetDt': '20190113'}, {'movieCd': '20177538', 'movieNm': '완벽한 타인', 'audiAcc': '4890354', 'targetDt': '20190113'}, {'movieCd': '20183050', 'movieNm': '번 더 스테이지: 더 무비', 'audiAcc': '298402', 'targetDt': '20190113'}, {'movieCd': '20183073', 'movieNm': '베일리 어게인', 'audiAcc': '45254', 'targetDt': '20190113'}, {'movieCd': '20181171', 'movieNm': '바울', 'audiAcc': '201760', 'targetDt': '20190113'}, {'movieCd': '20182935', 'movieNm': '출국', 'audiAcc': '71407', 'targetDt': '20190113'}, {'movieCd': '20182669', 'movieNm': '툴리', 'audiAcc': '24325', 'targetDt': '20190113'}, {'movieCd': '20186822', 'movieNm': '너의 췌장을 먹고 싶어', 'audiAcc': '48910', 'targetDt': '20190113'}]\n",
      "10\n"
     ]
    }
   ],
   "source": [
    "import requests\n",
    "\n",
    "targetDts = ['20181111', '20181118', '20181125', '20181202', '20181209', '20181216','20181223', '20181230', '20190106', '20190113']\n",
    "box_office_list = []  # 최종으로 저장되는 Movie_data\n",
    "box_office_movie = {} # 새로운 영화 하나의 dictionary\n",
    "movie_saved = {} # Movie와 audiAcc가 저장된 dictionary(key : MovieCd, value : audiAcc)\n",
    "\n",
    "for targetDt in targetDts:\n",
    "    data = requests.get(URL).json()\n",
    "    data = data['boxOfficeResult']['weeklyBoxOfficeList']\n",
    "    weekly_list = []\n",
    "    print(targetDt)\n",
    "    \n",
    "    for i in range(10):\n",
    "        weekly_list.append(data[i]['movieCd'])\n",
    "    \n",
    "    for k in range(10):\n",
    "\n",
    "        # box_office_list에 없는 새로운 영화일 경우, box_office_list에 movieCd와 movieNm을 추가함.\n",
    "        if data[k]['movieCd'] not in list(movie_saved.keys()):\n",
    "            box_office_movie['movieCd'] = data[k]['movieCd']\n",
    "            box_office_movie['movieNm'] = data[k]['movieNm']\n",
    "            box_office_list.append(box_office_movie)\n",
    "            box_office_movie = {}\n",
    "\n",
    "        movie_saved[data[k]['movieCd']] = data[k]['audiAcc']\n",
    "        \n",
    "        \n",
    "        # movie_saved에 있는 영화의 audiAcc를 최신 data로 바꿈.\n",
    "\n",
    "    for j in range(len(box_office_list)):\n",
    "        if box_office_list[j]['movieCd'] in weekly_list:\n",
    "            box_office_list[j]['audiAcc'] = movie_saved[box_office_list[j]['movieCd']]\n",
    "            box_office_list[j]['targetDt'] = targetDt\n",
    "    print(box_office_list)\n",
    "    \n",
    "print(box_office_list)\n",
    "print(len(box_office_list))\n",
    "\n",
    "            "
   ]
  },
  {
   "cell_type": "code",
   "execution_count": 81,
   "metadata": {},
   "outputs": [
    {
     "name": "stdout",
     "output_type": "stream",
     "text": [
      "{}\n",
      "[{'movieCd': '20184105', 'movieNm': '말모이', 'audiAcc': '1185368', 'targetDt': '20190113'}, {'movieCd': '20176251', 'movieNm': '내안의 그놈', 'audiAcc': '765383', 'targetDt': '20190113'}, {'movieCd': '20189463', 'movieNm': '주먹왕 랄프 2: 인터넷 속으로', 'audiAcc': '1342315', 'targetDt': '20190113'}, {'movieCd': '20180290', 'movieNm': '아쿠아맨', 'audiAcc': '4920735', 'targetDt': '20190113'}, {'movieCd': '20183915', 'movieNm': '극장판 공룡메카드: 타이니소어의 섬', 'audiAcc': '289873', 'targetDt': '20190113'}, {'movieCd': '20185485', 'movieNm': '보헤미안 랩소디', 'audiAcc': '9785643', 'targetDt': '20190113'}, {'movieCd': '20184574', 'movieNm': '그린 북', 'audiAcc': '99569', 'targetDt': '20190113'}, {'movieCd': '20186281', 'movieNm': '범블비', 'audiAcc': '1553491', 'targetDt': '20190113'}, {'movieCd': '20170658', 'movieNm': 'PMC: 더 벙커', 'audiAcc': '1665204', 'targetDt': '20190113'}, {'movieCd': '20175547', 'movieNm': '스윙키즈', 'audiAcc': '1462874', 'targetDt': '20190113'}]\n",
      "{}\n",
      "{'20184105': '1185368', '20176251': '765383', '20189463': '1342315', '20180290': '4920735', '20183915': '289873', '20185485': '9785643', '20184574': '99569', '20186281': '1553491', '20170658': '1665204', '20175547': '1462874'}\n"
     ]
    }
   ],
   "source": [
    "print(box_office_movie)\n",
    "print(box_office_list)\n",
    "print(box_office_movie)\n",
    "print(movie_saved)"
   ]
  },
  {
   "cell_type": "code",
   "execution_count": null,
   "metadata": {},
   "outputs": [],
   "source": []
  }
 ],
 "metadata": {
  "kernelspec": {
   "display_name": "Python 3",
   "language": "python",
   "name": "python3"
  },
  "language_info": {
   "codemirror_mode": {
    "name": "ipython",
    "version": 3
   },
   "file_extension": ".py",
   "mimetype": "text/x-python",
   "name": "python",
   "nbconvert_exporter": "python",
   "pygments_lexer": "ipython3",
   "version": "3.6.7"
  }
 },
 "nbformat": 4,
 "nbformat_minor": 2
}
