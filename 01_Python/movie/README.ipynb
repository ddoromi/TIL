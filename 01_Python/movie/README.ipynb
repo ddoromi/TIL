{
 "cells": [
  {
   "cell_type": "markdown",
   "metadata": {},
   "source": [
    "# 190118 Python Movie Project\n",
    "\n",
    "## 1. 활용한 API 정보 & 2. CSV 파일 설명\n",
    "\n",
    "### 1.영화진흥위원회 오픈 API\n",
    "#### get_write_box_office_list.py => box_office_movie.csv\n",
    "> 영화 대표코드`Movie_code`, 영화명(국문): `Title`, 누적 관객수: `audiAcc`, 해당일: `Recoded_at`\n",
    "\n",
    "#### get_movie_information.py => movie.csv\n",
    "> 영화 대표코드: `Movie_code`, 영화명(국문): `Title`, 누적 관객수: `audiAcc`, 해당일: `Recoded_at`, 영화명(원제): `Movie_name_og`,  개봉연도: `Prdt_year`, 상영시간: `Show_time`, 장르: `Genre`, 감독: `Directors`, 상영 등급: `Watch_grade_nm`, 배우1: `Actor1`, 배우2: `Actor2`, 배우3: `Actor3`\n",
    "\n",
    "### 2. 네이버 영화 검색 API\n",
    "#### naver_movie_information.py => movie_naver.csv\n",
    "> 영화 대표코드: `Movie_code`, 영화 썸네일 이미지의 URL: `Thumb_url`,  하이퍼텍스트 link: `Link_url`, 유저 평점: `User_rationg`\n",
    "\n"
   ]
  }
 ],
 "metadata": {
  "kernelspec": {
   "display_name": "Python 3",
   "language": "python",
   "name": "python3"
  },
  "language_info": {
   "codemirror_mode": {
    "name": "ipython",
    "version": 3
   },
   "file_extension": ".py",
   "mimetype": "text/x-python",
   "name": "python",
   "nbconvert_exporter": "python",
   "pygments_lexer": "ipython3",
   "version": "3.6.7"
  }
 },
 "nbformat": 4,
 "nbformat_minor": 2
}
