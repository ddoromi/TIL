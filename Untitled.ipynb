{
 "cells": [
  {
   "cell_type": "code",
   "execution_count": 1,
   "metadata": {},
   "outputs": [
    {
     "ename": "KeyError",
     "evalue": "'boxOfficeResult'",
     "output_type": "error",
     "traceback": [
      "\u001b[1;31m---------------------------------------------------------------------------\u001b[0m",
      "\u001b[1;31mKeyError\u001b[0m                                  Traceback (most recent call last)",
      "\u001b[1;32m<ipython-input-1-e731cce6c839>\u001b[0m in \u001b[0;36m<module>\u001b[1;34m\u001b[0m\n\u001b[0;32m     58\u001b[0m \u001b[1;33m\u001b[0m\u001b[0m\n\u001b[0;32m     59\u001b[0m \u001b[0mtargetDts\u001b[0m \u001b[1;33m=\u001b[0m \u001b[1;33m[\u001b[0m\u001b[1;34m'20181111'\u001b[0m\u001b[1;33m,\u001b[0m \u001b[1;34m'20181118'\u001b[0m\u001b[1;33m,\u001b[0m \u001b[1;34m'20181125'\u001b[0m\u001b[1;33m,\u001b[0m \u001b[1;34m'20181202'\u001b[0m\u001b[1;33m,\u001b[0m \u001b[1;34m'20181209'\u001b[0m\u001b[1;33m,\u001b[0m \u001b[1;34m'20181216'\u001b[0m\u001b[1;33m,\u001b[0m \u001b[1;34m'20181223'\u001b[0m\u001b[1;33m,\u001b[0m \u001b[1;34m'20181230'\u001b[0m\u001b[1;33m,\u001b[0m \u001b[1;34m'20190106'\u001b[0m\u001b[1;33m,\u001b[0m \u001b[1;34m'20190113'\u001b[0m\u001b[1;33m]\u001b[0m\u001b[1;33m\u001b[0m\u001b[1;33m\u001b[0m\u001b[0m\n\u001b[1;32m---> 60\u001b[1;33m \u001b[0mwrite_box_office_list\u001b[0m\u001b[1;33m(\u001b[0m\u001b[0mget_box_office_list\u001b[0m\u001b[1;33m(\u001b[0m\u001b[0mkey\u001b[0m\u001b[1;33m,\u001b[0m \u001b[0mtargetDts\u001b[0m\u001b[1;33m)\u001b[0m\u001b[1;33m)\u001b[0m\u001b[1;33m\u001b[0m\u001b[1;33m\u001b[0m\u001b[0m\n\u001b[0m",
      "\u001b[1;32m<ipython-input-1-e731cce6c839>\u001b[0m in \u001b[0;36mget_box_office_list\u001b[1;34m(key, targetDts)\u001b[0m\n\u001b[0;32m     15\u001b[0m         \u001b[0mURL\u001b[0m \u001b[1;33m=\u001b[0m \u001b[1;34mf'http://www.kobis.or.kr/kobisopenapi/webservice/rest/boxoffice/searchWeeklyBoxOfficeList.json?key={key}&targetDt={targetDt}&weekGb=0'\u001b[0m\u001b[1;33m\u001b[0m\u001b[1;33m\u001b[0m\u001b[0m\n\u001b[0;32m     16\u001b[0m         \u001b[0mbox_office_data\u001b[0m \u001b[1;33m=\u001b[0m \u001b[0mrequests\u001b[0m\u001b[1;33m.\u001b[0m\u001b[0mget\u001b[0m\u001b[1;33m(\u001b[0m\u001b[0mURL\u001b[0m\u001b[1;33m)\u001b[0m\u001b[1;33m.\u001b[0m\u001b[0mjson\u001b[0m\u001b[1;33m(\u001b[0m\u001b[1;33m)\u001b[0m\u001b[1;33m\u001b[0m\u001b[1;33m\u001b[0m\u001b[0m\n\u001b[1;32m---> 17\u001b[1;33m         \u001b[0mbox_office_data\u001b[0m \u001b[1;33m=\u001b[0m \u001b[0mbox_office_data\u001b[0m\u001b[1;33m[\u001b[0m\u001b[1;34m'boxOfficeResult'\u001b[0m\u001b[1;33m]\u001b[0m\u001b[1;33m[\u001b[0m\u001b[1;34m'weeklyBoxOfficeList'\u001b[0m\u001b[1;33m]\u001b[0m\u001b[1;33m\u001b[0m\u001b[1;33m\u001b[0m\u001b[0m\n\u001b[0m\u001b[0;32m     18\u001b[0m \u001b[1;33m\u001b[0m\u001b[0m\n\u001b[0;32m     19\u001b[0m         \u001b[1;31m# 한 주의 Top 10 영화 목록 초기화.\u001b[0m\u001b[1;33m\u001b[0m\u001b[1;33m\u001b[0m\u001b[1;33m\u001b[0m\u001b[0m\n",
      "\u001b[1;31mKeyError\u001b[0m: 'boxOfficeResult'"
     ]
    }
   ],
   "source": [
    "import os, requests, csv\n",
    "\n",
    "key = os.getenv(\"KOBIS_KEY\")\n",
    "\n",
    "# kobis에서 box_office 순위를 받아오는 함수\n",
    "def get_box_office_list(key, targetDts):\n",
    "\n",
    "    # 변수 목록 => movieCd: 영화 대표 코드, movieNm: 영화명(국문), 누적 관객 수: audiAcc, 날짜: targetDt\n",
    "    box_office_list = []  # 최종으로 저장되는 Movie_data\n",
    "    box_office_movie = {}  # 새로운 영화의 dictionary\n",
    "   \n",
    "    movie_saved = {}  # 영화 대표 코드와 누적 관객수만 저장된 dictionary(key : MovieCd, value : audiAcc)\n",
    "\n",
    "    for targetDt in targetDts:\n",
    "        URL = f'http://www.kobis.or.kr/kobisopenapi/webservice/rest/boxoffice/searchWeeklyBoxOfficeList.json?key={key}&targetDt={targetDt}&weekGb=0'\n",
    "        box_office_data = requests.get(URL).json()\n",
    "        box_office_data = box_office_data['boxOfficeResult']['weeklyBoxOfficeList']\n",
    "\n",
    "        # 한 주의 Top 10 영화 목록 초기화.\n",
    "        weekly_list = []\n",
    "\n",
    "        # 한 주의 Top 10 movieCd를 저장함.\n",
    "        for i in range(10):\n",
    "            weekly_list.append(box_office_data[i]['movieCd'])\n",
    "            \n",
    "            # movie_saved에 없는 새로운 영화일 경우, box_office_list에 movieCd와 movieNm을 추가하고 다시 초기화 함.\n",
    "            if box_office_data[i]['movieCd'] not in list(movie_saved.keys()):\n",
    "                box_office_movie['movieCd'] = box_office_data[i]['movieCd']\n",
    "                box_office_movie['movieNm'] = box_office_data[i]['movieNm']\n",
    "                box_office_list.append(box_office_movie)\n",
    "                box_office_movie = {}\n",
    "\n",
    "            # movie_saved에 있던 영화의 audiAcc를 최신 data로 바꾸고, 새로운 영화일 경우 movieCd와 audiAcc가 추가됨.\n",
    "            movie_saved[box_office_data[i]['movieCd']] = box_office_data[i]['audiAcc']\n",
    "\n",
    "        # box_office_list 영화 중 weekly_list에 있는 영화만 audiAcc와 targetDt를 최신 data로 바꿔줌.\n",
    "        for j in range(len(box_office_list)):\n",
    "            if box_office_list[j]['movieCd'] in weekly_list:\n",
    "                box_office_list[j]['audiAcc'] = movie_saved[box_office_list[j]['movieCd']]\n",
    "                box_office_list[j]['targetDt'] = targetDt\n",
    "\n",
    "    return box_office_list\n",
    "\n",
    "\n",
    "# box_office_list를 받아 파일로 쓰는 함수\n",
    "def write_box_office_list(box_office_list):\n",
    "    write_box_office = open('box_office.csv', 'w+', encoding='utf-8', newline='') #w+는 덮어씀, a+는 추가\n",
    "\n",
    "    # boxoffice.csv의 첫 줄\n",
    "    writer = csv.writer(write_box_office)\n",
    "    writer.writerow(['movie_code', 'title', 'audience', 'recoded_at'])\n",
    "\n",
    "    for i in range(len(box_office_list)):\n",
    "        writer.writerow(\n",
    "            [box_office_list[i]['movieCd'], box_office_list[i]['movieNm'], box_office_list[i]['audiAcc'], box_office_list[i]['targetDt']] \n",
    "        )\n",
    "    write_box_office.close()\n",
    "    \n",
    "targetDts = ['20181111', '20181118', '20181125', '20181202', '20181209', '20181216', '20181223', '20181230', '20190106', '20190113']\n",
    "write_box_office_list(get_box_office_list(key, targetDts))"
   ]
  }
 ],
 "metadata": {
  "kernelspec": {
   "display_name": "Python 3",
   "language": "python",
   "name": "python3"
  },
  "language_info": {
   "codemirror_mode": {
    "name": "ipython",
    "version": 3
   },
   "file_extension": ".py",
   "mimetype": "text/x-python",
   "name": "python",
   "nbconvert_exporter": "python",
   "pygments_lexer": "ipython3",
   "version": "3.6.7"
  }
 },
 "nbformat": 4,
 "nbformat_minor": 2
}
